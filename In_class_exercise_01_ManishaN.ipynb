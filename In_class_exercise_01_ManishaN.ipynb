{
  "nbformat": 4,
  "nbformat_minor": 0,
  "metadata": {
    "colab": {
      "name": "In_class_exercise_01_ManishaN.ipynb",
      "provenance": [],
      "collapsed_sections": [],
      "include_colab_link": true
    },
    "kernelspec": {
      "display_name": "Python 3",
      "language": "python",
      "name": "python3"
    },
    "language_info": {
      "codemirror_mode": {
        "name": "ipython",
        "version": 3
      },
      "file_extension": ".py",
      "mimetype": "text/x-python",
      "name": "python",
      "nbconvert_exporter": "python",
      "pygments_lexer": "ipython3",
      "version": "3.8.5"
    }
  },
  "cells": [
    {
      "cell_type": "markdown",
      "metadata": {
        "id": "view-in-github",
        "colab_type": "text"
      },
      "source": [
        "<a href=\"https://colab.research.google.com/github/manishareddynarayan/Manisha_INFO5731_Fall2021/blob/main/In_class_exercise_01_ManishaN.ipynb\" target=\"_parent\"><img src=\"https://colab.research.google.com/assets/colab-badge.svg\" alt=\"Open In Colab\"/></a>"
      ]
    },
    {
      "cell_type": "markdown",
      "metadata": {
        "id": "DymRJbxDBCnf"
      },
      "source": [
        "# **The first In-class-exercise (09/01/2021, 40 points in total)**"
      ]
    },
    {
      "cell_type": "markdown",
      "metadata": {
        "id": "03jb4GZsBkBS"
      },
      "source": [
        "(1) Write a Python program to calculate the length of a string. (4 points)"
      ]
    },
    {
      "cell_type": "code",
      "metadata": {
        "colab": {
          "base_uri": "https://localhost:8080/"
        },
        "id": "YaGLbSHHB8Ej",
        "outputId": "34a67195-efb6-4d96-8cfa-32c20abb05ed"
      },
      "source": [
        "# write your answer here\n",
        "\n",
        "strng=input(\"Enter the string to find it's length: \")\n",
        "print(len(strng))"
      ],
      "execution_count": null,
      "outputs": [
        {
          "output_type": "stream",
          "name": "stdout",
          "text": [
            "enter the string to find it's length how r u\n",
            "7\n"
          ]
        }
      ]
    },
    {
      "cell_type": "markdown",
      "metadata": {
        "id": "jJDe71iLB616"
      },
      "source": [
        "(2) Write a Python program to count the number of characters in a string. (4 points)\n",
        "\n",
        "Sample String : 'google.com‘, \n",
        "\n",
        "Expected Result : {'o': 3, 'g': 2, '.': 1, 'e': 1, 'l': 1, 'm': 1, 'c': 1}"
      ]
    },
    {
      "cell_type": "code",
      "metadata": {
        "colab": {
          "base_uri": "https://localhost:8080/"
        },
        "id": "MtKskTzbCLaU",
        "outputId": "c90c4b27-06aa-435e-f2d8-14132ed9226a"
      },
      "source": [
        "# write your answer here\n",
        "exampleStr = \"shopclues.com\"\n",
        "freqChars = {}\n",
        "  \n",
        "for i in exampleStr:\n",
        "    if i in freqChars:\n",
        "        freqChars[i] += 1\n",
        "    else:\n",
        "        freqChars[i] = 1\n",
        "print (\"Count of all characters in the given format is :\\n \"\n",
        "                                        +  str(freqChars))"
      ],
      "execution_count": null,
      "outputs": [
        {
          "output_type": "stream",
          "name": "stdout",
          "text": [
            "Count of all characters in the given format is :\n",
            " {'s': 2, 'h': 1, 'o': 2, 'p': 1, 'c': 2, 'l': 1, 'u': 1, 'e': 1, '.': 1, 'm': 1}\n"
          ]
        }
      ]
    },
    {
      "cell_type": "markdown",
      "metadata": {
        "id": "55W9AMdXCSpV"
      },
      "source": [
        "(3) Write a Python program to sum all the items in a list. (4 points)"
      ]
    },
    {
      "cell_type": "code",
      "metadata": {
        "colab": {
          "base_uri": "https://localhost:8080/"
        },
        "id": "I57NXsauCec2",
        "outputId": "05495ca2-eaf0-4d10-aed7-6064c370db76"
      },
      "source": [
        "# write your answer here\n",
        "exmpList=[2,97,87,55,28,32,1]\n",
        "totalSum=sum(exmpList)\n",
        "print(totalSum)"
      ],
      "execution_count": null,
      "outputs": [
        {
          "output_type": "stream",
          "name": "stdout",
          "text": [
            "302\n"
          ]
        }
      ]
    },
    {
      "cell_type": "markdown",
      "metadata": {
        "id": "4ulBZ6yhCi9F"
      },
      "source": [
        "(4) Write a Python program to get a string from a given string where all occurrences of its first char have been changed to '\\$', except the first char itself. (4 points)\n",
        "\n",
        "Sample String : 'restart‘, \n",
        "\n",
        "Expected Result : 'resta\\$t'"
      ]
    },
    {
      "cell_type": "code",
      "metadata": {
        "colab": {
          "base_uri": "https://localhost:8080/"
        },
        "id": "Fj0XhwbBCw2o",
        "outputId": "7bed4624-5a86-42f9-86d7-cd4108619159"
      },
      "source": [
        "# write your answer here\n",
        "myList = []\n",
        "strng=input(\"Enter String: \")\n",
        "for char in strng:\n",
        "    if char in myList:\n",
        "        myList.append('$')\n",
        "    else:\n",
        "        myList.append (char)\n",
        "print(''.join(str(i) for i in myList))"
      ],
      "execution_count": null,
      "outputs": [
        {
          "output_type": "stream",
          "name": "stdout",
          "text": [
            "Enter String: kettle\n",
            "ket$l$\n"
          ]
        }
      ]
    },
    {
      "cell_type": "markdown",
      "metadata": {
        "id": "_bIP7s1MCzue"
      },
      "source": [
        "(5) Write a program with python which could accept two parameter a and b to calculate and output the result of S, where \n",
        "\n",
        "$\\ S=3.14*(1+a/b)^3$ (4 points)\n",
        "\n"
      ]
    },
    {
      "cell_type": "code",
      "metadata": {
        "colab": {
          "base_uri": "https://localhost:8080/"
        },
        "id": "w79QilHXD3Mg",
        "outputId": "0bd9bf6e-bbe1-4dc7-e4da-eba60461d8ac"
      },
      "source": [
        "# write your answer here\n",
        "valA=input (\"Enter value for a: \")\n",
        "valB=input (\"Enter value for b: \")\n",
        "S=3.14*(1+(float(valA)/float(valB)))**3\n",
        "print (S)"
      ],
      "execution_count": null,
      "outputs": [
        {
          "output_type": "stream",
          "name": "stdout",
          "text": [
            "Enter value for a: 10.89\n",
            "Enter value for b: 10.99\n",
            "24.778700351181318\n"
          ]
        }
      ]
    },
    {
      "cell_type": "markdown",
      "metadata": {
        "id": "xCa2bK9aD4Q3"
      },
      "source": [
        "(6) Write a Python program to concatenate following dictionaries to create a new one. (4 points)\n",
        "\n",
        "Sample Dictionary : dic1={1:10, 2:20}, dic2={3:30, 4:40}, dic3={5:50,6:60}, \n",
        "\n",
        "Expected Result : {1: 10, 2: 20, 3: 30, 4: 40, 5: 50, 6: 60}\n"
      ]
    },
    {
      "cell_type": "code",
      "metadata": {
        "colab": {
          "base_uri": "https://localhost:8080/"
        },
        "id": "_z4aLqAbEET1",
        "outputId": "b81aadaf-8e78-4a7d-f76a-d793b97dabe5"
      },
      "source": [
        "# write your answer here\n",
        "dict1={1:11, 2:22}\n",
        "dict2={3:\"hi\", 4:44}\n",
        "dict3={5:55,6:\"you\"}\n",
        "dict4={}\n",
        "for a in (dict1,dict2,dict3): dict4.update(a)\n",
        "print(dict4)"
      ],
      "execution_count": null,
      "outputs": [
        {
          "output_type": "stream",
          "name": "stdout",
          "text": [
            "{1: 11, 2: 22, 3: 'hi', 4: 44, 5: 55, 6: 'you'}\n"
          ]
        }
      ]
    },
    {
      "cell_type": "markdown",
      "metadata": {
        "id": "0v48Vqa7FrQh"
      },
      "source": [
        "(7) Write a Python program to check whether an element exists within a tuple. (4 points)"
      ]
    },
    {
      "cell_type": "code",
      "metadata": {
        "colab": {
          "base_uri": "https://localhost:8080/"
        },
        "id": "7WEmgq-DF2P1",
        "outputId": "a101f643-a9c0-4605-b57a-6c4b31f5c240"
      },
      "source": [
        "# write your answer here\n",
        "testTuple = (300, 90, 11, 67, 92)\n",
        "testValue = 67\n",
        "result = testValue in testTuple\n",
        "print(\"Is element present in tuple? : \" + str(result))"
      ],
      "execution_count": null,
      "outputs": [
        {
          "output_type": "stream",
          "name": "stdout",
          "text": [
            "Is element present in tuple? : True\n"
          ]
        }
      ]
    },
    {
      "cell_type": "markdown",
      "metadata": {
        "id": "vD5PYLMuGga_"
      },
      "source": [
        "(8) Write a Python program to find maximum and the minimum value in a set. (4 points)"
      ]
    },
    {
      "cell_type": "code",
      "metadata": {
        "colab": {
          "base_uri": "https://localhost:8080/"
        },
        "id": "t0D5kdJUGjjw",
        "outputId": "fc24c882-94c1-47a3-caa9-3af247c4c971"
      },
      "source": [
        "# write your answer here\n",
        "sampleSet={\"3509\",\"3528\",\"566187\",\"2912\",\"29\" }\n",
        "print(\"Maximum from sampleset: \" + max(sampleSet))\n",
        "print(\"Minimum from sampleset: \" + min(sampleSet))"
      ],
      "execution_count": null,
      "outputs": [
        {
          "output_type": "stream",
          "name": "stdout",
          "text": [
            "Maximum from sampleset: 566187\n",
            "Minimum from sampleset: 29\n"
          ]
        }
      ]
    },
    {
      "cell_type": "markdown",
      "metadata": {
        "id": "uHkd-y5VhVWC"
      },
      "source": [
        "(9) Write a Python program to randomly divide the students in this class into six groups for term projects, each group should have at least 4 students but no more than 6 students (including 6). Here is the students list: (4 points)\n",
        "\n",
        "studnet_list = ['vmb0067','pc0353','snd0097','yye0005','sg0940','bk0301','rak0120','rrk0058','spk0057','vl0135','nm0547','pn0159',\n",
        "           'msp0174','dd0420','ds0761','rs0850','ss1995','at0739','at0768','mv0299','tv0119','dy0091','py0080','ttp0037','hc0439','ri0094','pk0339', 'hn0145','mn0426']"
      ]
    },
    {
      "cell_type": "code",
      "metadata": {
        "colab": {
          "base_uri": "https://localhost:8080/"
        },
        "id": "3iGbmcOBhTwy",
        "outputId": "0af20367-16f3-4c24-d23b-23696228acad"
      },
      "source": [
        "# write your answer here\n",
        "import random\n",
        "studentList =  ['vmb0067','pc0353','snd0097','yye0005','sg0940','bk0301','rak0120','rrk0058','spk0057','vl0135','nm0547','pn0159', 'msp0174','dd0420','ds0761','rs0850','ss1995','at0739','at0768','mv0299','tv0119','dy0091','py0080','ttp0037','hc0439','ri0094','pk0339', 'hn0145','mn0426']\n",
        "for i in range(4):\n",
        "  values = random.choices(studentList,k=6)\n",
        "  studentList=[i for i in studentList if i not in values]\n",
        "  print(\"Group \" + str(i+1)+ \" students are: \" , values)"
      ],
      "execution_count": null,
      "outputs": [
        {
          "output_type": "stream",
          "name": "stdout",
          "text": [
            "Group 1 students are:  ['ss1995', 'vmb0067', 'yye0005', 'ri0094', 'pn0159', 'sg0940']\n",
            "Group 2 students are:  ['pc0353', 'dy0091', 'py0080', 'bk0301', 'dy0091', 'ttp0037']\n",
            "Group 3 students are:  ['pk0339', 'vl0135', 'at0739', 'rrk0058', 'dd0420', 'nm0547']\n",
            "Group 4 students are:  ['hn0145', 'msp0174', 'rak0120', 'tv0119', 'spk0057', 'msp0174']\n"
          ]
        }
      ]
    },
    {
      "cell_type": "markdown",
      "metadata": {
        "id": "atUjirdRpu3j"
      },
      "source": [
        "(10) Write a Python program to find the duplicate elements in a given array of integers. Return -1 If there are no such elements. (4 points)"
      ]
    },
    {
      "cell_type": "code",
      "metadata": {
        "colab": {
          "base_uri": "https://localhost:8080/"
        },
        "id": "xMyibNNKpu3j",
        "outputId": "564cb35b-ae81-437d-eb50-278b06259048"
      },
      "source": [
        "# write your answer here\n",
        "def Repeat(x): \n",
        "    _size = len(x) \n",
        "    repeated = []\n",
        "    c=0 \n",
        "    for i in range(_size): \n",
        "        k = i + 1\n",
        "        for j in range(k, _size): \n",
        "            if x[i] == x[j] and x[i] not in repeated: \n",
        "                repeated.append(x[i])\n",
        "                c=c+1\n",
        "    if c>1:\n",
        "     return repeated \n",
        "    else: \n",
        "     return -1\n",
        "list1 = [120,73,120, 220, 10,  \n",
        "         50, 73, 290] \n",
        "print (Repeat(list1))"
      ],
      "execution_count": 2,
      "outputs": [
        {
          "output_type": "stream",
          "name": "stdout",
          "text": [
            "[120, 73]\n"
          ]
        }
      ]
    },
    {
      "cell_type": "markdown",
      "metadata": {
        "id": "ckaDLolfpu3k"
      },
      "source": [
        "(11) Write a Python program to select all the Sundays of a specified year. (4 extra points)"
      ]
    },
    {
      "cell_type": "code",
      "metadata": {
        "colab": {
          "base_uri": "https://localhost:8080/"
        },
        "id": "eCLGwrYDpu3k",
        "outputId": "26a3beee-407a-48a7-81e5-b238fa1e1c1a"
      },
      "source": [
        "# write your answer here\n",
        "from datetime import date, timedelta\n",
        "\n",
        "def all_sundays(year):\n",
        "\n",
        "       dateNow = date(year, 1, 1)\n",
        "     \n",
        "       dateNow += timedelta(days = 6 - dateNow.weekday())  \n",
        "       while dateNow.year == year:\n",
        "          yield dateNow\n",
        "          dateNow += timedelta(days = 7)\n",
        "          \n",
        "for sunday in all_sundays(2016):\n",
        "   print(sunday)"
      ],
      "execution_count": null,
      "outputs": [
        {
          "output_type": "stream",
          "name": "stdout",
          "text": [
            "2016-01-03\n",
            "2016-01-10\n",
            "2016-01-17\n",
            "2016-01-24\n",
            "2016-01-31\n",
            "2016-02-07\n",
            "2016-02-14\n",
            "2016-02-21\n",
            "2016-02-28\n",
            "2016-03-06\n",
            "2016-03-13\n",
            "2016-03-20\n",
            "2016-03-27\n",
            "2016-04-03\n",
            "2016-04-10\n",
            "2016-04-17\n",
            "2016-04-24\n",
            "2016-05-01\n",
            "2016-05-08\n",
            "2016-05-15\n",
            "2016-05-22\n",
            "2016-05-29\n",
            "2016-06-05\n",
            "2016-06-12\n",
            "2016-06-19\n",
            "2016-06-26\n",
            "2016-07-03\n",
            "2016-07-10\n",
            "2016-07-17\n",
            "2016-07-24\n",
            "2016-07-31\n",
            "2016-08-07\n",
            "2016-08-14\n",
            "2016-08-21\n",
            "2016-08-28\n",
            "2016-09-04\n",
            "2016-09-11\n",
            "2016-09-18\n",
            "2016-09-25\n",
            "2016-10-02\n",
            "2016-10-09\n",
            "2016-10-16\n",
            "2016-10-23\n",
            "2016-10-30\n",
            "2016-11-06\n",
            "2016-11-13\n",
            "2016-11-20\n",
            "2016-11-27\n",
            "2016-12-04\n",
            "2016-12-11\n",
            "2016-12-18\n",
            "2016-12-25\n"
          ]
        }
      ]
    }
  ]
}