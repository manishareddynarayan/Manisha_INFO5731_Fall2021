{
 "cells": [
  {
   "cell_type": "code",
   "execution_count": null,
   "id": "2ffa76a2",
   "metadata": {},
   "outputs": [],
   "source": [
    "(20 points) The purpose of the question is to practice different machine learning algorithms for text clustering Please downlad the dataset by using the following link. https://www.kaggle.com/PromptCloudHQ/amazon-reviews-unlocked-mobile-phones (You can also use different text data which you want)\n",
    "\n",
    "Apply the listed clustering methods to the dataset:\n",
    "\n",
    "K means, DBSCAN, Hierarchical clustering.\n",
    "\n",
    "You can refer to of the codes from the follwing link below. https://www.kaggle.com/karthik3890/text-clustering"
   ]
  },
  {
   "cell_type": "code",
   "execution_count": 88,
   "id": "8bf99839",
   "metadata": {},
   "outputs": [
    {
     "data": {
      "text/html": [
       "<div>\n",
       "<style scoped>\n",
       "    .dataframe tbody tr th:only-of-type {\n",
       "        vertical-align: middle;\n",
       "    }\n",
       "\n",
       "    .dataframe tbody tr th {\n",
       "        vertical-align: top;\n",
       "    }\n",
       "\n",
       "    .dataframe thead th {\n",
       "        text-align: right;\n",
       "    }\n",
       "</style>\n",
       "<table border=\"1\" class=\"dataframe\">\n",
       "  <thead>\n",
       "    <tr style=\"text-align: right;\">\n",
       "      <th></th>\n",
       "      <th>Product Name</th>\n",
       "      <th>Brand Name</th>\n",
       "      <th>Price</th>\n",
       "      <th>Rating</th>\n",
       "      <th>Reviews</th>\n",
       "      <th>Review Votes</th>\n",
       "    </tr>\n",
       "  </thead>\n",
       "  <tbody>\n",
       "    <tr>\n",
       "      <th>0</th>\n",
       "      <td>\"CLEAR CLEAN ESN\" Sprint EPIC 4G Galaxy SPH-D7...</td>\n",
       "      <td>Samsung</td>\n",
       "      <td>199.99</td>\n",
       "      <td>5</td>\n",
       "      <td>I feel so LUCKY to have found this used (phone...</td>\n",
       "      <td>1.0</td>\n",
       "    </tr>\n",
       "    <tr>\n",
       "      <th>1</th>\n",
       "      <td>\"CLEAR CLEAN ESN\" Sprint EPIC 4G Galaxy SPH-D7...</td>\n",
       "      <td>Samsung</td>\n",
       "      <td>199.99</td>\n",
       "      <td>4</td>\n",
       "      <td>nice phone, nice up grade from my pantach revu...</td>\n",
       "      <td>0.0</td>\n",
       "    </tr>\n",
       "    <tr>\n",
       "      <th>2</th>\n",
       "      <td>\"CLEAR CLEAN ESN\" Sprint EPIC 4G Galaxy SPH-D7...</td>\n",
       "      <td>Samsung</td>\n",
       "      <td>199.99</td>\n",
       "      <td>5</td>\n",
       "      <td>Very pleased</td>\n",
       "      <td>0.0</td>\n",
       "    </tr>\n",
       "    <tr>\n",
       "      <th>3</th>\n",
       "      <td>\"CLEAR CLEAN ESN\" Sprint EPIC 4G Galaxy SPH-D7...</td>\n",
       "      <td>Samsung</td>\n",
       "      <td>199.99</td>\n",
       "      <td>4</td>\n",
       "      <td>It works good but it goes slow sometimes but i...</td>\n",
       "      <td>0.0</td>\n",
       "    </tr>\n",
       "    <tr>\n",
       "      <th>4</th>\n",
       "      <td>\"CLEAR CLEAN ESN\" Sprint EPIC 4G Galaxy SPH-D7...</td>\n",
       "      <td>Samsung</td>\n",
       "      <td>199.99</td>\n",
       "      <td>4</td>\n",
       "      <td>Great phone to replace my lost phone. The only...</td>\n",
       "      <td>0.0</td>\n",
       "    </tr>\n",
       "    <tr>\n",
       "      <th>...</th>\n",
       "      <td>...</td>\n",
       "      <td>...</td>\n",
       "      <td>...</td>\n",
       "      <td>...</td>\n",
       "      <td>...</td>\n",
       "      <td>...</td>\n",
       "    </tr>\n",
       "    <tr>\n",
       "      <th>4995</th>\n",
       "      <td>Apple iPhone 3GS 16GB (Black) - AT&amp;T MC135LL/A</td>\n",
       "      <td>Apple</td>\n",
       "      <td>30.99</td>\n",
       "      <td>5</td>\n",
       "      <td>This review is not for the product as you may ...</td>\n",
       "      <td>64.0</td>\n",
       "    </tr>\n",
       "    <tr>\n",
       "      <th>4996</th>\n",
       "      <td>Apple iPhone 3GS 16GB (Black) - AT&amp;T MC135LL/A</td>\n",
       "      <td>Apple</td>\n",
       "      <td>30.99</td>\n",
       "      <td>4</td>\n",
       "      <td>The product was in good structure. I'm still n...</td>\n",
       "      <td>0.0</td>\n",
       "    </tr>\n",
       "    <tr>\n",
       "      <th>4997</th>\n",
       "      <td>Apple iPhone 3GS 16GB (Black) - AT&amp;T MC135LL/A</td>\n",
       "      <td>Apple</td>\n",
       "      <td>30.99</td>\n",
       "      <td>1</td>\n",
       "      <td>The iPhone was fine. It works and is in good c...</td>\n",
       "      <td>157.0</td>\n",
       "    </tr>\n",
       "    <tr>\n",
       "      <th>4998</th>\n",
       "      <td>Apple iPhone 3GS 16GB (Black) - AT&amp;T MC135LL/A</td>\n",
       "      <td>Apple</td>\n",
       "      <td>30.99</td>\n",
       "      <td>2</td>\n",
       "      <td>Screen cracked really quick.</td>\n",
       "      <td>0.0</td>\n",
       "    </tr>\n",
       "    <tr>\n",
       "      <th>4999</th>\n",
       "      <td>Apple iPhone 3GS 16GB (Black) - AT&amp;T MC135LL/A</td>\n",
       "      <td>Apple</td>\n",
       "      <td>30.99</td>\n",
       "      <td>1</td>\n",
       "      <td>Will never buy anything again. I received it a...</td>\n",
       "      <td>0.0</td>\n",
       "    </tr>\n",
       "  </tbody>\n",
       "</table>\n",
       "<p>5000 rows × 6 columns</p>\n",
       "</div>"
      ],
      "text/plain": [
       "                                           Product Name Brand Name   Price  \\\n",
       "0     \"CLEAR CLEAN ESN\" Sprint EPIC 4G Galaxy SPH-D7...    Samsung  199.99   \n",
       "1     \"CLEAR CLEAN ESN\" Sprint EPIC 4G Galaxy SPH-D7...    Samsung  199.99   \n",
       "2     \"CLEAR CLEAN ESN\" Sprint EPIC 4G Galaxy SPH-D7...    Samsung  199.99   \n",
       "3     \"CLEAR CLEAN ESN\" Sprint EPIC 4G Galaxy SPH-D7...    Samsung  199.99   \n",
       "4     \"CLEAR CLEAN ESN\" Sprint EPIC 4G Galaxy SPH-D7...    Samsung  199.99   \n",
       "...                                                 ...        ...     ...   \n",
       "4995     Apple iPhone 3GS 16GB (Black) - AT&T MC135LL/A      Apple   30.99   \n",
       "4996     Apple iPhone 3GS 16GB (Black) - AT&T MC135LL/A      Apple   30.99   \n",
       "4997     Apple iPhone 3GS 16GB (Black) - AT&T MC135LL/A      Apple   30.99   \n",
       "4998     Apple iPhone 3GS 16GB (Black) - AT&T MC135LL/A      Apple   30.99   \n",
       "4999     Apple iPhone 3GS 16GB (Black) - AT&T MC135LL/A      Apple   30.99   \n",
       "\n",
       "      Rating                                            Reviews  Review Votes  \n",
       "0          5  I feel so LUCKY to have found this used (phone...           1.0  \n",
       "1          4  nice phone, nice up grade from my pantach revu...           0.0  \n",
       "2          5                                       Very pleased           0.0  \n",
       "3          4  It works good but it goes slow sometimes but i...           0.0  \n",
       "4          4  Great phone to replace my lost phone. The only...           0.0  \n",
       "...      ...                                                ...           ...  \n",
       "4995       5  This review is not for the product as you may ...          64.0  \n",
       "4996       4  The product was in good structure. I'm still n...           0.0  \n",
       "4997       1  The iPhone was fine. It works and is in good c...         157.0  \n",
       "4998       2                       Screen cracked really quick.           0.0  \n",
       "4999       1  Will never buy anything again. I received it a...           0.0  \n",
       "\n",
       "[5000 rows x 6 columns]"
      ]
     },
     "execution_count": 88,
     "metadata": {},
     "output_type": "execute_result"
    }
   ],
   "source": [
    "import pandas as pd\n",
    "#loading the csv file\n",
    "amazonDF = pd.read_csv(\"Downloads/Amazon_Unlocked_Mobile.csv\")\n",
    "# getting top 5000 records\n",
    "amazonDF = amazonDF.head(5000)\n",
    "amazonDF"
   ]
  },
  {
   "cell_type": "code",
   "execution_count": 89,
   "id": "045b49b2",
   "metadata": {},
   "outputs": [
    {
     "data": {
      "text/plain": [
       "(5000, 6)"
      ]
     },
     "execution_count": 89,
     "metadata": {},
     "output_type": "execute_result"
    }
   ],
   "source": [
    "# .shape returns a tuple representing the dimensionality\n",
    "amazonDF.shape"
   ]
  },
  {
   "cell_type": "code",
   "execution_count": 90,
   "id": "7ca59529",
   "metadata": {},
   "outputs": [],
   "source": [
    "# dropna () method removes the rows that contains NULL values\n",
    "afterNullValuesRemoval = amazonDF.dropna()"
   ]
  },
  {
   "cell_type": "code",
   "execution_count": 91,
   "id": "836efd2c",
   "metadata": {},
   "outputs": [
    {
     "data": {
      "text/plain": [
       "(3422, 6)"
      ]
     },
     "execution_count": 91,
     "metadata": {},
     "output_type": "execute_result"
    }
   ],
   "source": [
    "# .shape returns a tuple representing the dimensionality\n",
    "afterNullValuesRemoval.shape"
   ]
  },
  {
   "cell_type": "code",
   "execution_count": null,
   "id": "cb097b53",
   "metadata": {},
   "outputs": [],
   "source": [
    "Visualizing Ratings"
   ]
  },
  {
   "cell_type": "code",
   "execution_count": 93,
   "id": "20d11ec7",
   "metadata": {},
   "outputs": [
    {
     "name": "stderr",
     "output_type": "stream",
     "text": [
      "C:\\Users\\LaptopCheckout\\anaconda3\\lib\\site-packages\\seaborn\\_decorators.py:36: FutureWarning: Pass the following variable as a keyword arg: x. From version 0.12, the only valid positional argument will be `data`, and passing other arguments without an explicit keyword will result in an error or misinterpretation.\n",
      "  warnings.warn(\n"
     ]
    },
    {
     "data": {
      "text/plain": [
       "<AxesSubplot:xlabel='Rating', ylabel='count'>"
      ]
     },
     "execution_count": 93,
     "metadata": {},
     "output_type": "execute_result"
    },
    {
     "data": {
      "image/png": "[encoded data removed]",
      "text/plain": [
       "<Figure size 432x288 with 1 Axes>"
      ]
     },
     "metadata": {
      "needs_background": "light"
     },
     "output_type": "display_data"
    }
   ],
   "source": [
    "import seaborn as sns\n",
    "# plotting graph with values from rating column\n",
    "sns.countplot(afterNullValuesRemoval.Rating)"
   ]
  },
  {
   "cell_type": "code",
   "execution_count": 94,
   "id": "0ef789ba",
   "metadata": {},
   "outputs": [
    {
     "name": "stderr",
     "output_type": "stream",
     "text": [
      "<ipython-input-94-8818c1ece494>:8: SettingWithCopyWarning: \n",
      "A value is trying to be set on a copy of a slice from a DataFrame.\n",
      "Try using .loc[row_indexer,col_indexer] = value instead\n",
      "\n",
      "See the caveats in the documentation: https://pandas.pydata.org/pandas-docs/stable/user_guide/indexing.html#returning-a-view-versus-a-copy\n",
      "  afterNullValuesRemoval['Rating'] = classificationRating\n"
     ]
    }
   ],
   "source": [
    "def classificationReview(rating):\n",
    "    if rating < 3:\n",
    "        return 'negative'\n",
    "    return 'positive'\n",
    "# mapping based on rating\n",
    "classificationRating = afterNullValuesRemoval['Rating'].map(classificationReview) \n",
    "# loading into data frame\n",
    "afterNullValuesRemoval['Rating'] = classificationRating"
   ]
  },
  {
   "cell_type": "code",
   "execution_count": 95,
   "id": "a542e479",
   "metadata": {},
   "outputs": [
    {
     "data": {
      "text/plain": [
       "positive    2522\n",
       "negative     900\n",
       "Name: Rating, dtype: int64"
      ]
     },
     "execution_count": 95,
     "metadata": {},
     "output_type": "execute_result"
    }
   ],
   "source": [
    "# value_counts is used to get a Series containing counts of unique values\n",
    "afterNullValuesRemoval['Rating'].value_counts()"
   ]
  },
  {
   "cell_type": "code",
   "execution_count": null,
   "id": "e3d34bcc",
   "metadata": {},
   "outputs": [],
   "source": [
    "Data Cleaning"
   ]
  },
  {
   "cell_type": "code",
   "execution_count": 97,
   "id": "cf3a1925",
   "metadata": {},
   "outputs": [
    {
     "name": "stderr",
     "output_type": "stream",
     "text": [
      "C:\\Users\\LaptopCheckout\\anaconda3\\lib\\site-packages\\seaborn\\_decorators.py:36: FutureWarning: Pass the following variable as a keyword arg: x. From version 0.12, the only valid positional argument will be `data`, and passing other arguments without an explicit keyword will result in an error or misinterpretation.\n",
      "  warnings.warn(\n"
     ]
    },
    {
     "data": {
      "text/plain": [
       "<AxesSubplot:xlabel='Rating', ylabel='count'>"
      ]
     },
     "execution_count": 97,
     "metadata": {},
     "output_type": "execute_result"
    },
    {
     "data": {
      "image/png": "[encoded data removed]",
      "text/plain": [
       "<Figure size 432x288 with 1 Axes>"
      ]
     },
     "metadata": {
      "needs_background": "light"
     },
     "output_type": "display_data"
    }
   ],
   "source": [
    "import seaborn as sns\n",
    "# plotting graph with values from rating column\n",
    "sns.countplot(afterNullValuesRemoval.Rating)"
   ]
  },
  {
   "cell_type": "code",
   "execution_count": 98,
   "id": "999f7171",
   "metadata": {},
   "outputs": [
    {
     "name": "stdout",
     "output_type": "stream",
     "text": [
      "3205\n",
      "Unless you know how to jail break this phone... what's the point? Most apps don't support this old phone. <(it's not really old, they just want you to spend money on the newer version. wtf? but whatever)>\n"
     ]
    }
   ],
   "source": [
    "import re\n",
    "# re used for string searching and manipulation\n",
    "counter = 0;\n",
    "for review in afterNullValuesRemoval['Reviews'].values:\n",
    "    if (len(re.findall('<.*?>', review))):\n",
    "        print(counter)\n",
    "        \n",
    "        print(review)\n",
    "        break;\n",
    "    counter += 1;\n"
   ]
  },
  {
   "cell_type": "code",
   "execution_count": 99,
   "id": "8fbcd251",
   "metadata": {},
   "outputs": [],
   "source": [
    "def clean(sentence):\n",
    "#  compile the regular expression\n",
    "    clean = re.compile('<.*?>')\n",
    "# sub replaces one or many matches with a strin\n",
    "    cleanText = re.sub(clean, ' ', sentence)\n",
    "    return cleanText\n"
   ]
  },
  {
   "cell_type": "code",
   "execution_count": 100,
   "id": "2bbed61a",
   "metadata": {},
   "outputs": [
    {
     "name": "stderr",
     "output_type": "stream",
     "text": [
      "<ipython-input-100-d30a91a7fd43>:4: SettingWithCopyWarning: \n",
      "A value is trying to be set on a copy of a slice from a DataFrame.\n",
      "Try using .loc[row_indexer,col_indexer] = value instead\n",
      "\n",
      "See the caveats in the documentation: https://pandas.pydata.org/pandas-docs/stable/user_guide/indexing.html#returning-a-view-versus-a-copy\n",
      "  afterNullValuesRemoval['CleanText'] = afterNullValuesRemoval['Reviews'].apply(lambda x: \" \".join(x.lower() for x in x.split()))\n",
      "<ipython-input-100-d30a91a7fd43>:6: SettingWithCopyWarning: \n",
      "A value is trying to be set on a copy of a slice from a DataFrame.\n",
      "Try using .loc[row_indexer,col_indexer] = value instead\n",
      "\n",
      "See the caveats in the documentation: https://pandas.pydata.org/pandas-docs/stable/user_guide/indexing.html#returning-a-view-versus-a-copy\n",
      "  afterNullValuesRemoval['CleanText'] = afterNullValuesRemoval['CleanText'].apply(lambda x: clean(x))\n",
      "<ipython-input-100-d30a91a7fd43>:7: SettingWithCopyWarning: \n",
      "A value is trying to be set on a copy of a slice from a DataFrame.\n",
      "Try using .loc[row_indexer,col_indexer] = value instead\n",
      "\n",
      "See the caveats in the documentation: https://pandas.pydata.org/pandas-docs/stable/user_guide/indexing.html#returning-a-view-versus-a-copy\n",
      "  afterNullValuesRemoval['CleanText'] = afterNullValuesRemoval['CleanText'].apply(lambda x: ''.join(re.sub(r\"[^a-zA-Z0-9]+\", ' ', charctr) for charctr in x ))\n"
     ]
    }
   ],
   "source": [
    "# re used for string searching and manipulation\n",
    "import re\n",
    "# loading cleaned text column into data frame\n",
    "afterNullValuesRemoval['CleanText'] = afterNullValuesRemoval['Reviews'].apply(lambda x: \" \".join(x.lower() for x in x.split()))\n",
    "\n",
    "afterNullValuesRemoval['CleanText'] = afterNullValuesRemoval['CleanText'].apply(lambda x: clean(x))\n",
    "afterNullValuesRemoval['CleanText'] = afterNullValuesRemoval['CleanText'].apply(lambda x: ''.join(re.sub(r\"[^a-zA-Z0-9]+\", ' ', charctr) for charctr in x ))\n"
   ]
  },
  {
   "cell_type": "code",
   "execution_count": 101,
   "id": "99453751",
   "metadata": {},
   "outputs": [
    {
     "name": "stderr",
     "output_type": "stream",
     "text": [
      "[nltk_data] Downloading package stopwords to\n",
      "[nltk_data]     C:\\Users\\LaptopCheckout\\AppData\\Roaming\\nltk_data...\n",
      "[nltk_data]   Package stopwords is already up-to-date!\n",
      "<ipython-input-101-2c9f615eedd1>:7: SettingWithCopyWarning: \n",
      "A value is trying to be set on a copy of a slice from a DataFrame.\n",
      "Try using .loc[row_indexer,col_indexer] = value instead\n",
      "\n",
      "See the caveats in the documentation: https://pandas.pydata.org/pandas-docs/stable/user_guide/indexing.html#returning-a-view-versus-a-copy\n",
      "  afterNullValuesRemoval['CleanText'] = afterNullValuesRemoval['CleanText'].apply(lambda x: \" \".join(x for x in x.split() if x not in stopWords))\n"
     ]
    }
   ],
   "source": [
    "\n",
    "import nltk\n",
    "# download stopWords from nltk\n",
    "nltk.download('stopwords')\n",
    "from nltk.corpus import stopwords\n",
    "stopWords = stopwords.words('english')\n",
    "# removed stop words\n",
    "afterNullValuesRemoval['CleanText'] = afterNullValuesRemoval['CleanText'].apply(lambda x: \" \".join(x for x in x.split() if x not in stopWords))"
   ]
  },
  {
   "cell_type": "code",
   "execution_count": null,
   "id": "a0d3a39d",
   "metadata": {},
   "outputs": [],
   "source": [
    "K Means Using Bag of Words"
   ]
  },
  {
   "cell_type": "code",
   "execution_count": 105,
   "id": "dd6730b0",
   "metadata": {},
   "outputs": [],
   "source": [
    "from sklearn.feature_extraction.text import CountVectorizer\n",
    "#  Countvectorizer is a method to convert text to numerical data\n",
    "countVector = CountVectorizer()\n",
    "#  fit_transform() is used on the training data so that we can scale the training data\n",
    "transform = countVector.fit_transform(afterNullValuesRemoval['CleanText'].values)\n"
   ]
  },
  {
   "cell_type": "code",
   "execution_count": 106,
   "id": "57613637",
   "metadata": {},
   "outputs": [],
   "source": [
    "column_names = countVector.get_feature_names()"
   ]
  },
  {
   "cell_type": "code",
   "execution_count": 107,
   "id": "f479b866",
   "metadata": {},
   "outputs": [
    {
     "name": "stderr",
     "output_type": "stream",
     "text": [
      "C:\\Users\\LaptopCheckout\\anaconda3\\lib\\site-packages\\sklearn\\cluster\\_kmeans.py:792: FutureWarning: 'n_jobs' was deprecated in version 0.23 and will be removed in 1.0 (renaming of 0.25).\n",
      "  warnings.warn(\"'n_jobs' was deprecated in version 0.23 and will be\"\n"
     ]
    },
    {
     "data": {
      "text/plain": [
       "KMeans(n_clusters=10, n_jobs=-1, random_state=99)"
      ]
     },
     "execution_count": 107,
     "metadata": {},
     "output_type": "execute_result"
    }
   ],
   "source": [
    "from sklearn.cluster import KMeans\n",
    "# K Means is one of the simplest and most popular unsupervised machine learning algorithms\n",
    "kMMOdel = KMeans(n_clusters = 10, init='k-means++', n_jobs = -1, random_state=99)\n",
    "# fit is for clearing any attributes already stored on the estimator\n",
    "kMMOdel.fit(transform)\n"
   ]
  },
  {
   "cell_type": "code",
   "execution_count": 109,
   "id": "6390adc9",
   "metadata": {},
   "outputs": [
    {
     "data": {
      "text/plain": [
       "array([[0.0031348 , 0.        , 0.        , ..., 0.00089566, 0.        ,\n",
       "        0.        ],\n",
       "       [0.00985915, 0.00140845, 0.0028169 , ..., 0.0028169 , 0.        ,\n",
       "        0.        ],\n",
       "       [0.        , 0.        , 0.        , ..., 0.        , 0.        ,\n",
       "        0.        ],\n",
       "       ...,\n",
       "       [0.        , 0.        , 0.        , ..., 0.        , 0.        ,\n",
       "        0.        ],\n",
       "       [0.02258065, 0.        , 0.00645161, ..., 0.00322581, 0.00645161,\n",
       "        0.00967742],\n",
       "       [0.        , 0.        , 0.        , ..., 0.        , 0.        ,\n",
       "        0.        ]])"
      ]
     },
     "execution_count": 109,
     "metadata": {},
     "output_type": "execute_result"
    }
   ],
   "source": [
    "KMlabels = kMMOdel.labels_\n",
    "# applying kmeans clustering\n",
    "clusterCenter = kMMOdel.cluster_centers_\n",
    "clusterCenter\n"
   ]
  },
  {
   "cell_type": "code",
   "execution_count": 110,
   "id": "9eace04d",
   "metadata": {},
   "outputs": [
    {
     "data": {
      "text/plain": [
       "0.19659068487820835"
      ]
     },
     "execution_count": 110,
     "metadata": {},
     "output_type": "execute_result"
    }
   ],
   "source": [
    "from sklearn import metrics\n",
    "#  metrics is released as a Python package for machine learning\n",
    "silhouetteScore = metrics.silhouette_score(transform, KMlabels, metric='euclidean')\n",
    "silhouetteScore\n"
   ]
  },
  {
   "cell_type": "code",
   "execution_count": 111,
   "id": "0e2b72dd",
   "metadata": {},
   "outputs": [
    {
     "name": "stderr",
     "output_type": "stream",
     "text": [
      "<ipython-input-111-b7729057bea8>:3: SettingWithCopyWarning: \n",
      "A value is trying to be set on a copy of a slice from a DataFrame.\n",
      "Try using .loc[row_indexer,col_indexer] = value instead\n",
      "\n",
      "See the caveats in the documentation: https://pandas.pydata.org/pandas-docs/stable/user_guide/indexing.html#returning-a-view-versus-a-copy\n",
      "  dataframe['BowLabel'] = kMMOdel.labels_\n"
     ]
    },
    {
     "data": {
      "text/plain": [
       "BowLabel\n",
       "0    2233\n",
       "1     710\n",
       "2       1\n",
       "3     141\n",
       "4      20\n",
       "5       3\n",
       "6       1\n",
       "7       1\n",
       "8     310\n",
       "9       2\n",
       "Name: Reviews, dtype: int64"
      ]
     },
     "execution_count": 111,
     "metadata": {},
     "output_type": "execute_result"
    }
   ],
   "source": [
    "dataframe = afterNullValuesRemoval\n",
    "\n",
    "dataframe['BowLabel'] = kMMOdel.labels_\n",
    "#getting count of reviews\n",
    "dataframe.groupby(['BowLabel'])['Reviews'].count()"
   ]
  },
  {
   "cell_type": "code",
   "execution_count": 112,
   "id": "9a40ecc5",
   "metadata": {},
   "outputs": [
    {
     "name": "stdout",
     "output_type": "stream",
     "text": [
      "Top terms per cluster:\n",
      "Cluster 0: phone\n",
      " great\n",
      " good\n",
      " works\n",
      " price\n",
      " screen\n",
      " like\n",
      " love\n",
      " work\n",
      " one\n",
      "Cluster 1: phone\n",
      " great\n",
      " screen\n",
      " good\n",
      " one\n",
      " price\n",
      " work\n",
      " use\n",
      " would\n",
      " new\n",
      "Cluster 2: phone\n",
      " issues\n",
      " great\n",
      " lte\n",
      " software\n",
      " good\n",
      " gps\n",
      " annoying\n",
      " youtube\n",
      " turned\n",
      "Cluster 3: phone\n",
      " screen\n",
      " good\n",
      " use\n",
      " one\n",
      " like\n",
      " great\n",
      " battery\n",
      " sim\n",
      " camera\n",
      "Cluster 4: phone\n",
      " screen\n",
      " like\n",
      " camera\n",
      " one\n",
      " battery\n",
      " good\n",
      " use\n",
      " would\n",
      " get\n",
      "Cluster 5: phone\n",
      " screen\n",
      " data\n",
      " tracfone\n",
      " like\n",
      " android\n",
      " alcatel\n",
      " good\n",
      " really\n",
      " time\n",
      "Cluster 6: phone\n",
      " note\n",
      " one\n",
      " even\n",
      " would\n",
      " sd\n",
      " dollar\n",
      " compared\n",
      " card\n",
      " screen\n",
      "Cluster 7: phone\n",
      " quality\n",
      " good\n",
      " one\n",
      " like\n",
      " moto\n",
      " camera\n",
      " light\n",
      " display\n",
      " experience\n",
      "Cluster 8: phone\n",
      " screen\n",
      " good\n",
      " great\n",
      " one\n",
      " like\n",
      " camera\n",
      " would\n",
      " battery\n",
      " get\n",
      "Cluster 9: phone\n",
      " camera\n",
      " like\n",
      " idol\n",
      " sound\n",
      " one\n",
      " screen\n",
      " feature\n",
      " use\n",
      " price\n"
     ]
    }
   ],
   "source": [
    "centroids = kMMOdel.cluster_centers_.argsort()[:, ::-1]\n",
    "# getting feature names of vector\n",
    "featureNames = countVector.get_feature_names()\n",
    "print(\"Top terms per cluster:\")\n",
    "for i in range(10):\n",
    "# getting each cluster value\n",
    "    print(\"Cluster %d:\" % i, end='')\n",
    "    for single in centroids[i, :10]:\n",
    "# getting centroids and loading in array\n",
    "        print(' %s' % featureNames[single], end='')\n",
    "        print()\n"
   ]
  },
  {
   "cell_type": "code",
   "execution_count": null,
   "id": "b2c4629a",
   "metadata": {},
   "outputs": [],
   "source": [
    "K Means using Average Words to Vectors"
   ]
  },
  {
   "cell_type": "code",
   "execution_count": 113,
   "id": "8d894f01",
   "metadata": {},
   "outputs": [
    {
     "data": {
      "image/png": "[encoded data removed]",
      "text/plain": [
       "<Figure size 432x288 with 1 Axes>"
      ]
     },
     "metadata": {
      "needs_background": "light"
     },
     "output_type": "display_data"
    }
   ],
   "source": [
    "import matplotlib.pyplot as plt\n",
    "#plt to plot graphs\n",
    "plt.bar([x for x in range(10)], dataframe.groupby(['BowLabel'])['Reviews'].count(), alpha = 0.4)\n",
    "# providing title\n",
    "plt.title('KMeans cluster points')\n",
    "# label on xaxis\n",
    "plt.xlabel(\"Cluster number\")\n",
    "#label on yaxis\n",
    "plt.ylabel(\"Number of points\")\n",
    "plt.show()\n"
   ]
  },
  {
   "cell_type": "code",
   "execution_count": 114,
   "id": "04ed8991",
   "metadata": {},
   "outputs": [],
   "source": [
    "sentencesList = []\n",
    "# splitting the sentences and adding into an array\n",
    "for sent in afterNullValuesRemoval['CleanText'].values:\n",
    "    sentencesList.append(sent.split())\n"
   ]
  },
  {
   "cell_type": "code",
   "execution_count": 115,
   "id": "98704ff6",
   "metadata": {},
   "outputs": [
    {
     "name": "stdout",
     "output_type": "stream",
     "text": [
      "Requirement already satisfied: gensim in c:\\users\\laptopcheckout\\anaconda3\\lib\\site-packages (4.1.2)\n",
      "Requirement already satisfied: smart-open>=1.8.1 in c:\\users\\laptopcheckout\\anaconda3\\lib\\site-packages (from gensim) (5.2.1)\n",
      "Requirement already satisfied: numpy>=1.17.0 in c:\\users\\laptopcheckout\\anaconda3\\lib\\site-packages (from gensim) (1.20.1)\n",
      "Requirement already satisfied: Cython==0.29.23 in c:\\users\\laptopcheckout\\anaconda3\\lib\\site-packages (from gensim) (0.29.23)\n",
      "Requirement already satisfied: scipy>=0.18.1 in c:\\users\\laptopcheckout\\anaconda3\\lib\\site-packages (from gensim) (1.6.2)\n",
      "Note: you may need to restart the kernel to use updated packages.\n"
     ]
    }
   ],
   "source": [
    "pip install -U gensim"
   ]
  },
  {
   "cell_type": "code",
   "execution_count": 116,
   "id": "16ed984f",
   "metadata": {},
   "outputs": [],
   "source": [
    "import gensim\n",
    "# Gensim is a Python library for topic modelling, document indexing \n",
    "w2v_model=gensim.models.Word2Vec(sentencesList, workers=4)"
   ]
  },
  {
   "cell_type": "code",
   "execution_count": 117,
   "id": "4f85cb49",
   "metadata": {},
   "outputs": [
    {
     "name": "stderr",
     "output_type": "stream",
     "text": [
      "<ipython-input-117-20f8cd5408b9>:15: RuntimeWarning: invalid value encountered in true_divide\n",
      "  sentVec /= wordsCounter\n"
     ]
    },
    {
     "data": {
      "text/plain": [
       "(3422, 100)"
      ]
     },
     "execution_count": 117,
     "metadata": {},
     "output_type": "execute_result"
    }
   ],
   "source": [
    "import numpy as np\n",
    "sentenceVectors = []\n",
    "for sentence in sentencesList:\n",
    "  sentVec = np.zeros(100)\n",
    "  wordsCounter = 0\n",
    "# taking each word from sentence\n",
    "  for word in sentence:\n",
    "    try:\n",
    "      vec = w2v_model.wv[word]\n",
    "      sentVec += vec\n",
    "      wordsCounter += 1\n",
    "    except:\n",
    "      pass\n",
    "# diving the value with words counter\n",
    "  sentVec /= wordsCounter\n",
    "  sentenceVectors.append(sentVec)\n",
    "#loading values from np\n",
    "sentenceVectors = np.array(sentenceVectors)\n",
    "sentenceVectors = np.nan_to_num(sentenceVectors)\n",
    "# .shape returns a tuple representing the dimensionality\n",
    "sentenceVectors.shape\n"
   ]
  },
  {
   "cell_type": "code",
   "execution_count": 118,
   "id": "10dae9ad",
   "metadata": {},
   "outputs": [
    {
     "data": {
      "text/plain": [
       "[3, 4, 5, 6, 7, 8, 9, 10]"
      ]
     },
     "execution_count": 118,
     "metadata": {},
     "output_type": "execute_result"
    }
   ],
   "source": [
    "cluster = [x for x in range(3,11)]\n",
    "#printing cluster\n",
    "cluster"
   ]
  },
  {
   "cell_type": "code",
   "execution_count": 119,
   "id": "2486e3e6",
   "metadata": {},
   "outputs": [
    {
     "data": {
      "image/png": "[encoded data removed]",
      "text/plain": [
       "<Figure size 432x288 with 1 Axes>"
      ]
     },
     "metadata": {
      "needs_background": "light"
     },
     "output_type": "display_data"
    }
   ],
   "source": [
    "# initialising an array for squaredLoss\n",
    "squaredLoss = []\n",
    "for clus in cluster:\n",
    "# fit is for clearing any attributes already stored on the estimator\n",
    "    kmeans = KMeans(n_clusters = clus).fit(sentenceVectors)\n",
    "    squaredLoss.append(kmeans.inertia_)\n",
    "# taking values from np associated with calculated squared loss\n",
    "clustersOptimal = np.argmin(squaredLoss) + 2 \n",
    "plt.plot(cluster, squaredLoss)\n",
    "# grap label\n",
    "plt.title(\"Elbow Curve to find the no. of clusters.\")\n",
    "# label for xaxis\n",
    "plt.xlabel(\"Number of clusters.\")\n",
    "# label for yaxis\n",
    "plt.ylabel(\"Squared Loss.\")\n",
    "axis = (clustersOptimal, min(squaredLoss))\n",
    "plt.annotate('(%s, %s)' % axis, xy = axis, textcoords='data')\n",
    "#ploting the graph\n",
    "plt.show()\n"
   ]
  },
  {
   "cell_type": "code",
   "execution_count": 120,
   "id": "1a81d0c4",
   "metadata": {},
   "outputs": [
    {
     "name": "stdout",
     "output_type": "stream",
     "text": [
      "The optimal number of clusters obtained is -  9\n",
      "The loss for optimal cluster is -  190.8261371760425\n"
     ]
    }
   ],
   "source": [
    "#printing the obtained values\n",
    "print (\"The optimal number of clusters obtained is - \", clustersOptimal)\n",
    "print (\"The loss for optimal cluster is - \", min(squaredLoss))\n"
   ]
  },
  {
   "cell_type": "code",
   "execution_count": 121,
   "id": "ee8927cd",
   "metadata": {},
   "outputs": [
    {
     "data": {
      "text/plain": [
       "KMeans(n_clusters=9)"
      ]
     },
     "execution_count": 121,
     "metadata": {},
     "output_type": "execute_result"
    }
   ],
   "source": [
    "from sklearn.cluster import KMeans\n",
    "# considering kmeans cluster from sklearn\n",
    "KMModel2 = KMeans(n_clusters = clustersOptimal)\n",
    "# fit is for clearing any attributes already stored on the estimator\n",
    "KMModel2.fit(sentenceVectors)\n"
   ]
  },
  {
   "cell_type": "code",
   "execution_count": 122,
   "id": "8c6caa4f",
   "metadata": {},
   "outputs": [
    {
     "data": {
      "text/plain": [
       "array([[-0.04354285,  0.25346344,  0.08210009, -0.03903585,  0.1972532 ,\n",
       "        -0.43794573,  0.05819629,  0.61258845, -0.34875081, -0.12586199,\n",
       "        -0.21322639, -0.4071037 ,  0.08425427,  0.22035757,  0.27346867,\n",
       "        -0.27725145,  0.11240274, -0.18764954, -0.05457514, -0.52013387,\n",
       "         0.24656276,  0.11159373,  0.04892018, -0.25822135, -0.08731642,\n",
       "         0.04224569, -0.36319393, -0.01466286, -0.30399166, -0.14554939,\n",
       "         0.26457341,  0.06330916, -0.02298469, -0.34542374, -0.16584427,\n",
       "         0.38783473,  0.13322816, -0.24402414, -0.03741891, -0.64115445,\n",
       "        -0.02812412, -0.35263853,  0.01047588,  0.07943349,  0.06296272,\n",
       "         0.0378141 , -0.40943995,  0.18806528,  0.40564678,  0.09866038,\n",
       "         0.0516443 , -0.09232301, -0.0199586 , -0.03852425, -0.49336396,\n",
       "         0.32254454,  0.21839571, -0.04269088, -0.30331637,  0.15413955,\n",
       "         0.11085495,  0.48755903, -0.36149037, -0.03609876, -0.3122939 ,\n",
       "         0.08263844,  0.05044031,  0.27885564, -0.2328424 ,  0.14459331,\n",
       "        -0.21683979,  0.19863914,  0.26803408, -0.24398344,  0.36930909,\n",
       "         0.10212521,  0.2098833 , -0.16001587, -0.07581468,  0.07450804,\n",
       "        -0.17213239,  0.08316242,  0.02886175,  0.58131694, -0.1173721 ,\n",
       "         0.1780592 , -0.1831835 ,  0.18103699,  0.37097943, -0.04369516,\n",
       "         0.27867472,  0.26018745,  0.05022638, -0.03009118,  0.30276448,\n",
       "         0.33461663,  0.07954845, -0.40429403,  0.0389823 , -0.0386762 ]])"
      ]
     },
     "execution_count": 122,
     "metadata": {},
     "output_type": "execute_result"
    }
   ],
   "source": [
    "# considering cluster center values and storing in an array\n",
    "wordClusterCenter = KMModel2.cluster_centers_\n",
    "\n",
    "wordClusterCenter[1:2]"
   ]
  },
  {
   "cell_type": "code",
   "execution_count": 136,
   "id": "08d7020c",
   "metadata": {},
   "outputs": [
    {
     "name": "stdout",
     "output_type": "stream",
     "text": [
      "A review of assigned to cluster  0\n",
      "----------------------------------------------------------------------\n",
      "It works good but it goes slow sometimes but its a very good phone I love it\n",
      "\n",
      "\n",
      "Ordered this phone as a replacement for the same model until my contract expires and I can get a new one. Seller confirmation said delivery could take up to 7 days. Seller sent out the phone within hours of receiving the order and I had the phone the next day. Phone looks better than described was able to transfer data from the old one to the new one with no problems. Highly recommend this seller\n",
      "\n",
      "\n",
      "______________________________________________________________________\n",
      "A review of assigned to cluster  1\n",
      "----------------------------------------------------------------------\n",
      "I feel so LUCKY to have found this used (phone to us & not used hard at all), phone on line from someone who upgraded and sold this one. My Son liked his old one that finally fell apart after 2.5+ years and didn't want an upgrade!! Thank you Seller, we really appreciate it & your honesty re: said used phone.I recommend this seller very highly & would but from them again!!\n",
      "\n",
      "\n",
      "nice phone, nice up grade from my pantach revue. Very clean set up and easy set up. never had an android phone but they are fantastic to say the least. perfect size for surfing and social media. great phone samsung\n",
      "\n",
      "\n",
      "______________________________________________________________________\n",
      "A review of assigned to cluster  2\n",
      "----------------------------------------------------------------------\n",
      "was not in good condition but does work good\n",
      "\n",
      "\n",
      "excellent\n",
      "\n",
      "\n",
      "______________________________________________________________________\n",
      "A review of assigned to cluster  3\n",
      "----------------------------------------------------------------------\n",
      "excelente\n",
      "\n",
      "\n",
      "excelente\n",
      "\n",
      "\n",
      "______________________________________________________________________\n"
     ]
    }
   ],
   "source": [
    "for i in range(4):\n",
    "    print(\"A review of assigned to cluster \", i)\n",
    "    print(\"-\" * 70)\n",
    "    print(dataframe.iloc[dataframe.groupby(['AVG-W2V Clus Label']).groups[i][0]]['Reviews'])\n",
    "    print('\\n')\n",
    "    print(dataframe.iloc[dataframe.groupby(['AVG-W2V Clus Label']).groups[i][1]]['Reviews'])\n",
    "    print('\\n')\n",
    "    print(\"_\" * 70)"
   ]
  },
  {
   "cell_type": "code",
   "execution_count": null,
   "id": "96253f67",
   "metadata": {},
   "outputs": [],
   "source": [
    "DBSCAN Clustering"
   ]
  },
  {
   "cell_type": "code",
   "execution_count": 123,
   "id": "eb2e84ed",
   "metadata": {},
   "outputs": [],
   "source": [
    "\n",
    "from sklearn.cluster import DBSCAN\n",
    "#  Density-Based Spatial Clustering of Applications with Noise\n",
    "minmumPoints = 2 * 100\n",
    "# deifing lower bound with inputs\n",
    "def lBound(numbers, target):\n",
    "#     loading values to a and b\n",
    "    a, b = 0, len(numbers) - 1\n",
    "    while a <= b:\n",
    "# finding middle term\n",
    "        middle = int(a + (b - a) / 2)\n",
    "        if numbers[middle] >= target:\n",
    "            b = middle - 1\n",
    "        else:\n",
    "            a = middle + 1\n",
    "    return a\n",
    "\n",
    "def nearestNeighbour200thCompute(term, data):\n",
    "    nearNeigh = []\n",
    "    for item in data:\n",
    "# fining sum to the power 2\n",
    "        dist = np.sum((term - item) **2 )\n",
    "# comparing with above found value\n",
    "        if(len(nearNeigh) == 200 and nearNeigh[199] > dist):\n",
    "            l = int(lBound(nearNeigh, dist))\n",
    "            if l < 200 and l >= 0 and nearNeigh[l] > dist:\n",
    "                nearNeigh[l] = dist\n",
    "        else:\n",
    "            nearNeigh.append(dist)\n",
    "            nearNeigh.sort()\n",
    "#returing 200th value \n",
    "    return nearNeigh[199]"
   ]
  },
  {
   "cell_type": "code",
   "execution_count": 124,
   "id": "cf932334",
   "metadata": {},
   "outputs": [],
   "source": [
    "neigh200th = []\n",
    "# getting each item from sentence vectors and appending to array\n",
    "for item in sentenceVectors[:1500]:\n",
    "    neigh200th.append( nearestNeighbour200thCompute(item, sentenceVectors[:1500]) )\n",
    "#sorting the array\n",
    "neigh200th.sort()"
   ]
  },
  {
   "cell_type": "code",
   "execution_count": 125,
   "id": "5d8b63b5",
   "metadata": {},
   "outputs": [
    {
     "data": {
      "image/png": "[encoded data removed]",
      "text/plain": [
       "<Figure size 1008x288 with 1 Axes>"
      ]
     },
     "metadata": {
      "needs_background": "light"
     },
     "output_type": "display_data"
    }
   ],
   "source": [
    "# plotting the figure with size specified\n",
    "plt.figure(figsize=(14,4))\n",
    "# title for graph\n",
    "plt.title(\"Elbow Method for Finding the right Eps hyperparameter\")\n",
    "# params for potting the graph\n",
    "plt.plot([x for x in range(len(neigh200th))], neigh200th)\n",
    "# giving heading to x axis\n",
    "plt.xlabel(\"Number of points\")\n",
    "# giving heading to y axis\n",
    "plt.ylabel(\"Distance of 200th Nearest Neighbour\")\n",
    "plt.show()"
   ]
  },
  {
   "cell_type": "code",
   "execution_count": 126,
   "id": "5a837fae",
   "metadata": {},
   "outputs": [
    {
     "data": {
      "text/plain": [
       "DBSCAN(eps=5, min_samples=200, n_jobs=-1)"
      ]
     },
     "execution_count": 126,
     "metadata": {},
     "output_type": "execute_result"
    }
   ],
   "source": [
    "#  Density-Based Spatial Clustering of Applications with Noise\n",
    "dbscanModel = DBSCAN(eps = 5, min_samples = minmumPoints, n_jobs=-1)\n",
    "# fit is for clearing any attributes already stored on the estimator\n",
    "dbscanModel.fit(sentenceVectors)\n"
   ]
  },
  {
   "cell_type": "code",
   "execution_count": 127,
   "id": "3e44b760",
   "metadata": {},
   "outputs": [
    {
     "name": "stderr",
     "output_type": "stream",
     "text": [
      "<ipython-input-127-8150695bb5e3>:4: SettingWithCopyWarning: \n",
      "A value is trying to be set on a copy of a slice from a DataFrame.\n",
      "Try using .loc[row_indexer,col_indexer] = value instead\n",
      "\n",
      "See the caveats in the documentation: https://pandas.pydata.org/pandas-docs/stable/user_guide/indexing.html#returning-a-view-versus-a-copy\n",
      "  dbscanDF['AVG-W2V Clus Label'] = dbscanModel.labels_\n",
      "<ipython-input-127-8150695bb5e3>:6: FutureWarning: Indexing with multiple keys (implicitly converted to a tuple of keys) will be deprecated, use a list instead.\n",
      "  dbscanDF.groupby(['AVG-W2V Clus Label'])['Product Name', 'Brand Name', 'Reviews'].count()\n"
     ]
    },
    {
     "data": {
      "text/html": [
       "<div>\n",
       "<style scoped>\n",
       "    .dataframe tbody tr th:only-of-type {\n",
       "        vertical-align: middle;\n",
       "    }\n",
       "\n",
       "    .dataframe tbody tr th {\n",
       "        vertical-align: top;\n",
       "    }\n",
       "\n",
       "    .dataframe thead th {\n",
       "        text-align: right;\n",
       "    }\n",
       "</style>\n",
       "<table border=\"1\" class=\"dataframe\">\n",
       "  <thead>\n",
       "    <tr style=\"text-align: right;\">\n",
       "      <th></th>\n",
       "      <th>Product Name</th>\n",
       "      <th>Brand Name</th>\n",
       "      <th>Reviews</th>\n",
       "    </tr>\n",
       "    <tr>\n",
       "      <th>AVG-W2V Clus Label</th>\n",
       "      <th></th>\n",
       "      <th></th>\n",
       "      <th></th>\n",
       "    </tr>\n",
       "  </thead>\n",
       "  <tbody>\n",
       "    <tr>\n",
       "      <th>0</th>\n",
       "      <td>3422</td>\n",
       "      <td>3422</td>\n",
       "      <td>3422</td>\n",
       "    </tr>\n",
       "  </tbody>\n",
       "</table>\n",
       "</div>"
      ],
      "text/plain": [
       "                    Product Name  Brand Name  Reviews\n",
       "AVG-W2V Clus Label                                   \n",
       "0                           3422        3422     3422"
      ]
     },
     "execution_count": 127,
     "metadata": {},
     "output_type": "execute_result"
    }
   ],
   "source": [
    "# loading the dataframe\n",
    "dbscanDF = dataframe\n",
    "# loading labels into the data frame\n",
    "dbscanDF['AVG-W2V Clus Label'] = dbscanModel.labels_\n",
    "# grouping by Product Name, Brand Name, Reviews\n",
    "dbscanDF.groupby(['AVG-W2V Clus Label'])['Product Name', 'Brand Name', 'Reviews'].count()\n"
   ]
  },
  {
   "cell_type": "code",
   "execution_count": null,
   "id": "3898c718",
   "metadata": {},
   "outputs": [],
   "source": [
    "Hierarichal Clustering"
   ]
  },
  {
   "cell_type": "code",
   "execution_count": 129,
   "id": "c5a70ee9",
   "metadata": {},
   "outputs": [
    {
     "data": {
      "text/plain": [
       "<matplotlib.lines.Line2D at 0x2a988ad0a00>"
      ]
     },
     "execution_count": 129,
     "metadata": {},
     "output_type": "execute_result"
    },
    {
     "data": {
      "image/png": "[encoded data removed]",
      "text/plain": [
       "<Figure size 432x288 with 1 Axes>"
      ]
     },
     "metadata": {
      "needs_background": "light"
     },
     "output_type": "display_data"
    }
   ],
   "source": [
    "import scipy\n",
    "#  SciPy wraps highly-optimized implementations written in low-level languages\n",
    "from scipy.cluster import hierarchy\n",
    "plt.axhline(y=35)\n"
   ]
  },
  {
   "cell_type": "code",
   "execution_count": 130,
   "id": "9397964b",
   "metadata": {},
   "outputs": [],
   "source": [
    "from sklearn.cluster import AgglomerativeClustering\n",
    "# Recursively merges pair of clusters of sample data\n",
    "clusterA = AgglomerativeClustering(n_clusters=5, affinity='euclidean', linkage='ward')\n",
    "#  fit_predict() is more relevant to unsupervised or transductive estimators\n",
    "AggClus = clusterA.fit_predict(sentenceVectors)\n"
   ]
  },
  {
   "cell_type": "code",
   "execution_count": 131,
   "id": "0284baa4",
   "metadata": {},
   "outputs": [
    {
     "name": "stderr",
     "output_type": "stream",
     "text": [
      "<ipython-input-131-41888e4dae09>:3: SettingWithCopyWarning: \n",
      "A value is trying to be set on a copy of a slice from a DataFrame.\n",
      "Try using .loc[row_indexer,col_indexer] = value instead\n",
      "\n",
      "See the caveats in the documentation: https://pandas.pydata.org/pandas-docs/stable/user_guide/indexing.html#returning-a-view-versus-a-copy\n",
      "  hierarchydf['AVG-W2V Clus Label'] = clusterA.labels_\n"
     ]
    }
   ],
   "source": [
    "hierarchydf = dbscanDF\n",
    "# loading labels cluster\n",
    "hierarchydf['AVG-W2V Clus Label'] = clusterA.labels_\n"
   ]
  },
  {
   "cell_type": "code",
   "execution_count": 132,
   "id": "283d4e2a",
   "metadata": {},
   "outputs": [
    {
     "data": {
      "text/plain": [
       "AVG-W2V Clus Label\n",
       "0     621\n",
       "1    1901\n",
       "2     317\n",
       "3      61\n",
       "4     522\n",
       "Name: Reviews, dtype: int64"
      ]
     },
     "execution_count": 132,
     "metadata": {},
     "output_type": "execute_result"
    }
   ],
   "source": [
    "# count of clusters\n",
    "hierarchydf.groupby(['AVG-W2V Clus Label'])['Reviews'].count()"
   ]
  },
  {
   "cell_type": "code",
   "execution_count": 135,
   "id": "d566baeb",
   "metadata": {},
   "outputs": [
    {
     "name": "stdout",
     "output_type": "stream",
     "text": [
      "2 reviews 0\n",
      "----------------------------------------------------------------------\n",
      "It works good but it goes slow sometimes but its a very good phone I love it\n",
      "\n",
      "\n",
      "Ordered this phone as a replacement for the same model until my contract expires and I can get a new one. Seller confirmation said delivery could take up to 7 days. Seller sent out the phone within hours of receiving the order and I had the phone the next day. Phone looks better than described was able to transfer data from the old one to the new one with no problems. Highly recommend this seller\n",
      "\n",
      "\n",
      "______________________________________________________________________\n",
      "2 reviews 1\n",
      "----------------------------------------------------------------------\n",
      "I feel so LUCKY to have found this used (phone to us & not used hard at all), phone on line from someone who upgraded and sold this one. My Son liked his old one that finally fell apart after 2.5+ years and didn't want an upgrade!! Thank you Seller, we really appreciate it & your honesty re: said used phone.I recommend this seller very highly & would but from them again!!\n",
      "\n",
      "\n",
      "nice phone, nice up grade from my pantach revue. Very clean set up and easy set up. never had an android phone but they are fantastic to say the least. perfect size for surfing and social media. great phone samsung\n",
      "\n",
      "\n",
      "______________________________________________________________________\n",
      "2 reviews 2\n",
      "----------------------------------------------------------------------\n",
      "was not in good condition but does work good\n",
      "\n",
      "\n",
      "excellent\n",
      "\n",
      "\n",
      "______________________________________________________________________\n",
      "2 reviews 3\n",
      "----------------------------------------------------------------------\n",
      "excelente\n",
      "\n",
      "\n",
      "excelente\n",
      "\n",
      "\n",
      "______________________________________________________________________\n",
      "2 reviews 4\n",
      "----------------------------------------------------------------------\n",
      "Very pleased\n",
      "\n",
      "\n",
      "The charging port was loose. I got that soldered in. Then needed a new battery as well. $100 later (not including cost of purchase) I have a usable phone. The phone should not have been sold in the state it was in.\n",
      "\n",
      "\n",
      "______________________________________________________________________\n"
     ]
    }
   ],
   "source": [
    "for i in range(5):\n",
    "    print(\"2 reviews\", i)\n",
    "    print(\"-\" * 70)\n",
    "    print(hierarchydf.iloc[hierarchydf.groupby(['AVG-W2V Clus Label']).groups[i][0]]['Reviews'])\n",
    "    print('\\n')\n",
    "    print(hierarchydf.iloc[hierarchydf.groupby(['AVG-W2V Clus Label']).groups[i][1]]['Reviews'])\n",
    "    print('\\n')\n",
    "    print(\"_\" * 70)\n"
   ]
  },
  {
   "cell_type": "code",
   "execution_count": null,
   "id": "76900159",
   "metadata": {},
   "outputs": [],
   "source": [
    "In one paragraph, please compare K means, DBSCAN and Hierarchical clustering."
   ]
  },
  {
   "cell_type": "code",
   "execution_count": null,
   "id": "084206a3",
   "metadata": {},
   "outputs": [],
   "source": [
    "We can conclude from above outputs that K Mean clustering can handle big data in a better way compared to Hierarchical clustering.\n",
    "A hierarchical clustering is a tree-like arrangement of nested clusters. When the cluster structure is hyper spherical, K Means clustering is shown to perform effectively.\n",
    "In contrast to DBScan Clustering, K-means clustering is sensitive to the amount of clusters provided. For big datasets, K-means Clustering is more efficient, but DBScan Clustering struggles with high-dimensional datasets.\n",
    "The dendrogram of hierarchical clustering makes calculating the number of clusters easier. K-means computes quicker when there are a lot of variables. If the distinctions are made based on previous assumptions, hierarchical clustering should\n",
    "be utilized to figure out how many groups there are."
   ]
  },
  {
   "cell_type": "code",
   "execution_count": null,
   "id": "390ff061",
   "metadata": {},
   "outputs": [],
   "source": [
    "(20 points) The purpose of the question is to practice different machine learning algorithms for text classification as well as the performance evaluation. In addition, you are requried to conduct 10 fold cross validation (https://scikit-learn.org/stable/modules/cross_validation.html) in the training.\n",
    "\n",
    "The dataset can be download from here: https://github.com/unt-iialab/info5731_spring2021/blob/main/class_exercises/exercise09_datacollection.zip. The dataset contains two files train data and test data for sentiment analysis in IMDB review, it has two categories: 1 represents positive and 0 represents negative. You need to split the training data into training and validate data (80% for training and 20% for validation, https://towardsdatascience.com/train-test-split-and-cross-validation-in-python-80b61beca4b6) and perform 10 fold cross validation while training the classifier. The final trained model was final evaluated on the test data.\n",
    "\n",
    "Algorithms:\n",
    "\n",
    "(1) MultinominalNB\n",
    "\n",
    "(2) SVM\n",
    "\n",
    "(3) KNN\n",
    "\n",
    "(4) Decision tree\n",
    "\n",
    "(5) Random Forest\n",
    "\n",
    "(6) XGBoost\n",
    "\n",
    "Evaluation measurement:\n",
    "\n",
    "(1) Accuracy\n",
    "\n",
    "(2) Recall\n",
    "\n",
    "(3) Precison\n",
    "\n",
    "(4) F-1 score"
   ]
  },
  {
   "cell_type": "code",
   "execution_count": 48,
   "id": "f2a7db53",
   "metadata": {},
   "outputs": [
    {
     "name": "stderr",
     "output_type": "stream",
     "text": [
      "<ipython-input-48-4e935ab7b805>:8: ParserWarning: Falling back to the 'python' engine because the 'c' engine does not support regex separators (separators > 1 char and different from '\\s+' are interpreted as regex); you can avoid this warning by specifying engine='python'.\n",
      "  train = pd.read_csv(\"Downloads/stsa-train.txt\", sep='delimiter', header=None)\n"
     ]
    },
    {
     "data": {
      "text/html": [
       "<div>\n",
       "<style scoped>\n",
       "    .dataframe tbody tr th:only-of-type {\n",
       "        vertical-align: middle;\n",
       "    }\n",
       "\n",
       "    .dataframe tbody tr th {\n",
       "        vertical-align: top;\n",
       "    }\n",
       "\n",
       "    .dataframe thead th {\n",
       "        text-align: right;\n",
       "    }\n",
       "</style>\n",
       "<table border=\"1\" class=\"dataframe\">\n",
       "  <thead>\n",
       "    <tr style=\"text-align: right;\">\n",
       "      <th></th>\n",
       "      <th>Text</th>\n",
       "      <th>Reviews</th>\n",
       "    </tr>\n",
       "  </thead>\n",
       "  <tbody>\n",
       "    <tr>\n",
       "      <th>0</th>\n",
       "      <td>a stirring , funny and finally transporting re...</td>\n",
       "      <td>1</td>\n",
       "    </tr>\n",
       "    <tr>\n",
       "      <th>1</th>\n",
       "      <td>apparently reassembled from the cutting-room f...</td>\n",
       "      <td>0</td>\n",
       "    </tr>\n",
       "    <tr>\n",
       "      <th>2</th>\n",
       "      <td>they presume their audience wo n't sit still f...</td>\n",
       "      <td>0</td>\n",
       "    </tr>\n",
       "    <tr>\n",
       "      <th>3</th>\n",
       "      <td>this is a visually stunning rumination on love...</td>\n",
       "      <td>1</td>\n",
       "    </tr>\n",
       "    <tr>\n",
       "      <th>4</th>\n",
       "      <td>jonathan parker 's bartleby should have been t...</td>\n",
       "      <td>1</td>\n",
       "    </tr>\n",
       "    <tr>\n",
       "      <th>...</th>\n",
       "      <td>...</td>\n",
       "      <td>...</td>\n",
       "    </tr>\n",
       "    <tr>\n",
       "      <th>6915</th>\n",
       "      <td>painful , horrifying and oppressively tragic ,...</td>\n",
       "      <td>1</td>\n",
       "    </tr>\n",
       "    <tr>\n",
       "      <th>6916</th>\n",
       "      <td>take care is nicely performed by a quintet of ...</td>\n",
       "      <td>0</td>\n",
       "    </tr>\n",
       "    <tr>\n",
       "      <th>6917</th>\n",
       "      <td>the script covers huge , heavy topics in a bla...</td>\n",
       "      <td>0</td>\n",
       "    </tr>\n",
       "    <tr>\n",
       "      <th>6918</th>\n",
       "      <td>a seriously bad film with seriously warped log...</td>\n",
       "      <td>0</td>\n",
       "    </tr>\n",
       "    <tr>\n",
       "      <th>6919</th>\n",
       "      <td>a deliciously nonsensical comedy about a city ...</td>\n",
       "      <td>1</td>\n",
       "    </tr>\n",
       "  </tbody>\n",
       "</table>\n",
       "<p>6920 rows × 2 columns</p>\n",
       "</div>"
      ],
      "text/plain": [
       "                                                   Text Reviews\n",
       "0     a stirring , funny and finally transporting re...       1\n",
       "1     apparently reassembled from the cutting-room f...       0\n",
       "2     they presume their audience wo n't sit still f...       0\n",
       "3     this is a visually stunning rumination on love...       1\n",
       "4     jonathan parker 's bartleby should have been t...       1\n",
       "...                                                 ...     ...\n",
       "6915  painful , horrifying and oppressively tragic ,...       1\n",
       "6916  take care is nicely performed by a quintet of ...       0\n",
       "6917  the script covers huge , heavy topics in a bla...       0\n",
       "6918  a seriously bad film with seriously warped log...       0\n",
       "6919  a deliciously nonsensical comedy about a city ...       1\n",
       "\n",
       "[6920 rows x 2 columns]"
      ]
     },
     "execution_count": 48,
     "metadata": {},
     "output_type": "execute_result"
    }
   ],
   "source": [
    "import pandas as pd \n",
    "import re \n",
    "import nltk \n",
    "from nltk.corpus import stopwords \n",
    "from nltk.stem.porter import PorterStemmer \n",
    "from sklearn.feature_extraction.text import CountVectorizer \n",
    "# loading stsa-train \n",
    "train = pd.read_csv(\"Downloads/stsa-train.txt\", sep='delimiter', header=None)              \n",
    "train = pd.DataFrame(train) \n",
    "# getting the text and reviews columns\n",
    "train.columns = [\"Text\"] \n",
    "train['Reviews'] = train['Text'].str.split(' ').str[0]\n",
    "#train dataset  \n",
    "train['Text'] = train['Text'].str.split(n=1).str[1]\n",
    "train"
   ]
  },
  {
   "cell_type": "code",
   "execution_count": 50,
   "id": "da722c80",
   "metadata": {},
   "outputs": [
    {
     "name": "stderr",
     "output_type": "stream",
     "text": [
      "<ipython-input-50-d4524e2c4ab7>:1: ParserWarning: Falling back to the 'python' engine because the 'c' engine does not support regex separators (separators > 1 char and different from '\\s+' are interpreted as regex); you can avoid this warning by specifying engine='python'.\n",
      "  test = pd.read_csv(\"Downloads/stsa-test.txt\", sep='delimiter', header=None)\n"
     ]
    },
    {
     "data": {
      "text/html": [
       "<div>\n",
       "<style scoped>\n",
       "    .dataframe tbody tr th:only-of-type {\n",
       "        vertical-align: middle;\n",
       "    }\n",
       "\n",
       "    .dataframe tbody tr th {\n",
       "        vertical-align: top;\n",
       "    }\n",
       "\n",
       "    .dataframe thead th {\n",
       "        text-align: right;\n",
       "    }\n",
       "</style>\n",
       "<table border=\"1\" class=\"dataframe\">\n",
       "  <thead>\n",
       "    <tr style=\"text-align: right;\">\n",
       "      <th></th>\n",
       "      <th>Text</th>\n",
       "      <th>Reviews</th>\n",
       "    </tr>\n",
       "  </thead>\n",
       "  <tbody>\n",
       "    <tr>\n",
       "      <th>0</th>\n",
       "      <td>no movement , no yuks , not much of anything .</td>\n",
       "      <td>0</td>\n",
       "    </tr>\n",
       "    <tr>\n",
       "      <th>1</th>\n",
       "      <td>a gob of drivel so sickly sweet , even the eag...</td>\n",
       "      <td>0</td>\n",
       "    </tr>\n",
       "    <tr>\n",
       "      <th>2</th>\n",
       "      <td>gangs of new york is an unapologetic mess , wh...</td>\n",
       "      <td>0</td>\n",
       "    </tr>\n",
       "    <tr>\n",
       "      <th>3</th>\n",
       "      <td>we never really feel involved with the story ,...</td>\n",
       "      <td>0</td>\n",
       "    </tr>\n",
       "    <tr>\n",
       "      <th>4</th>\n",
       "      <td>this is one of polanski 's best films .</td>\n",
       "      <td>1</td>\n",
       "    </tr>\n",
       "    <tr>\n",
       "      <th>...</th>\n",
       "      <td>...</td>\n",
       "      <td>...</td>\n",
       "    </tr>\n",
       "    <tr>\n",
       "      <th>1816</th>\n",
       "      <td>an often-deadly boring , strange reading of a ...</td>\n",
       "      <td>0</td>\n",
       "    </tr>\n",
       "    <tr>\n",
       "      <th>1817</th>\n",
       "      <td>the problem with concept films is that if the ...</td>\n",
       "      <td>0</td>\n",
       "    </tr>\n",
       "    <tr>\n",
       "      <th>1818</th>\n",
       "      <td>safe conduct , however ambitious and well-inte...</td>\n",
       "      <td>0</td>\n",
       "    </tr>\n",
       "    <tr>\n",
       "      <th>1819</th>\n",
       "      <td>a film made with as little wit , interest , an...</td>\n",
       "      <td>0</td>\n",
       "    </tr>\n",
       "    <tr>\n",
       "      <th>1820</th>\n",
       "      <td>but here 's the real damn : it is n't funny , ...</td>\n",
       "      <td>0</td>\n",
       "    </tr>\n",
       "  </tbody>\n",
       "</table>\n",
       "<p>1821 rows × 2 columns</p>\n",
       "</div>"
      ],
      "text/plain": [
       "                                                   Text Reviews\n",
       "0        no movement , no yuks , not much of anything .       0\n",
       "1     a gob of drivel so sickly sweet , even the eag...       0\n",
       "2     gangs of new york is an unapologetic mess , wh...       0\n",
       "3     we never really feel involved with the story ,...       0\n",
       "4               this is one of polanski 's best films .       1\n",
       "...                                                 ...     ...\n",
       "1816  an often-deadly boring , strange reading of a ...       0\n",
       "1817  the problem with concept films is that if the ...       0\n",
       "1818  safe conduct , however ambitious and well-inte...       0\n",
       "1819  a film made with as little wit , interest , an...       0\n",
       "1820  but here 's the real damn : it is n't funny , ...       0\n",
       "\n",
       "[1821 rows x 2 columns]"
      ]
     },
     "execution_count": 50,
     "metadata": {},
     "output_type": "execute_result"
    }
   ],
   "source": [
    "# loading stsa-txt \n",
    "test = pd.read_csv(\"Downloads/stsa-test.txt\", sep='delimiter', header=None)        \n",
    "test = pd.DataFrame(test) \n",
    "# getting the text and reviews columns\n",
    "test.columns = [\"Text\"] \n",
    "test['Reviews'] = test['Text'].str.split(' ').str[0]\n",
    "#test dataset  \n",
    "test['Text'] = test['Text'].str.split(n=1).str[1]\n",
    "test"
   ]
  },
  {
   "cell_type": "code",
   "execution_count": 52,
   "id": "7a8d18a0",
   "metadata": {},
   "outputs": [
    {
     "name": "stderr",
     "output_type": "stream",
     "text": [
      "[nltk_data] Downloading package stopwords to\n",
      "[nltk_data]     C:\\Users\\LaptopCheckout\\AppData\\Roaming\\nltk_data...\n",
      "[nltk_data]   Package stopwords is already up-to-date!\n"
     ]
    }
   ],
   "source": [
    "# Cleaning of the data\n",
    "#  downloading stop words\n",
    "nltk.download('stopwords') \n",
    "#  initialising empty arraya for train and test data\n",
    "trainData = [] \n",
    "testData = []\n",
    "\n",
    "for i in range(0, 6920): \n",
    "    # sub replaces one or many matches with a strin\n",
    "    data = re.sub('[^a-zA-Z]', '', train['Text'][i]) \n",
    "    # string in which all case-based characters have been lowercased \n",
    "    data = data.lower() \n",
    "#     break down a bigger string into several smaller strings\n",
    "    data = data.split() \n",
    "    ps = PorterStemmer() \n",
    "#     joining the text after splitting\n",
    "    data = ''.join(data) \n",
    "    trainData.append(data)\n",
    "\n",
    "for i in range(0, 1821): \n",
    "    # sub replaces one or many matches with a strin\n",
    "    data = re.sub('[^a-zA-Z]', '', test['Text'][i]) \n",
    "    # string in which all case-based characters have been lowercased \n",
    "    data = data.lower() \n",
    "    #     break down a bigger string into several smaller strings\n",
    "    data = data.split() \n",
    "    ps = PorterStemmer() \n",
    "    #     joining the text after splitting\n",
    "    data = ''.join(data) \n",
    "    testData.append(data)"
   ]
  },
  {
   "cell_type": "code",
   "execution_count": 54,
   "id": "b0026289",
   "metadata": {},
   "outputs": [
    {
     "name": "stdout",
     "output_type": "stream",
     "text": [
      "['1' '0' '0' ... '0' '0' '1']\n"
     ]
    }
   ],
   "source": [
    "\n",
    "# creating model train data\n",
    "countVec = CountVectorizer(max_features = 1500) \n",
    "  \n",
    "xValue = countVec.fit_transform(trainData).toarray() \n",
    "yValue = train.iloc[:, 1].values\n",
    "\n",
    "print(yValue)"
   ]
  },
  {
   "cell_type": "code",
   "execution_count": 55,
   "id": "22e5df96",
   "metadata": {},
   "outputs": [],
   "source": [
    "# splitting into training set and validation set \n",
    "from sklearn.model_selection import train_test_split \n",
    "  #loading the values\n",
    "X_train, X_val, y_train, y_val = train_test_split(xValue, yValue, test_size = 0.2, random_state = 0)\n"
   ]
  },
  {
   "cell_type": "code",
   "execution_count": 56,
   "id": "ebd1b7fc",
   "metadata": {},
   "outputs": [
    {
     "name": "stdout",
     "output_type": "stream",
     "text": [
      "['1' '1' '1' ... '1' '1' '1']\n"
     ]
    }
   ],
   "source": [
    "#MultinominalNB\n",
    "# fitting naive bayes to the training set \n",
    "from sklearn.naive_bayes import MultinomialNB\n",
    "classifier = MultinomialNB()\n",
    "# fit is for clearing any attributes already stored on the estimator\n",
    "model = classifier.fit(X_train, y_train)\n",
    "# predicting test set results \n",
    "yPredict = classifier.predict(X_val) \n",
    "print(yPredict)"
   ]
  },
  {
   "cell_type": "code",
   "execution_count": 57,
   "id": "fc5b1b26",
   "metadata": {},
   "outputs": [
    {
     "name": "stdout",
     "output_type": "stream",
     "text": [
      "Accuracy: 0.5346820809248555\n"
     ]
    }
   ],
   "source": [
    "import sklearn.metrics as metrics \n",
    "#  metrics is released as a Python package for machine learning\n",
    "print(\"Accuracy:\",metrics.accuracy_score(y_val, y_pred))\n"
   ]
  },
  {
   "cell_type": "code",
   "execution_count": 59,
   "id": "9706811f",
   "metadata": {},
   "outputs": [
    {
     "name": "stdout",
     "output_type": "stream",
     "text": [
      "              precision    recall  f1-score   support\n",
      "\n",
      "           0       1.00      0.00      0.01       646\n",
      "           1       0.53      1.00      0.70       738\n",
      "\n",
      "    accuracy                           0.53      1384\n",
      "   macro avg       0.77      0.50      0.35      1384\n",
      "weighted avg       0.75      0.53      0.37      1384\n",
      "\n"
     ]
    }
   ],
   "source": [
    "from sklearn.metrics import classification_report\n",
    "#  A Classification report is used to measure the quality of predictions\n",
    "print(classification_report(y_val, y_pred))\n"
   ]
  },
  {
   "cell_type": "code",
   "execution_count": 60,
   "id": "02e5c4da",
   "metadata": {},
   "outputs": [
    {
     "data": {
      "text/plain": [
       "KFold(n_splits=10, random_state=None, shuffle=False)"
      ]
     },
     "execution_count": 60,
     "metadata": {},
     "output_type": "execute_result"
    }
   ],
   "source": [
    "from sklearn.model_selection import KFold\n",
    "# KFOLD is a model validation technique, where it's not using your pre-trained model\n",
    "kFol = KFold(n_splits=10)\n",
    "# given number of splits\n",
    "kFol\n"
   ]
  },
  {
   "cell_type": "code",
   "execution_count": 62,
   "id": "22f2093f",
   "metadata": {},
   "outputs": [
    {
     "name": "stdout",
     "output_type": "stream",
     "text": [
      "['1' '1' '1' ... '1' '1' '1']\n"
     ]
    }
   ],
   "source": [
    "#SVM Model\n",
    "from sklearn import svm\n",
    "clasifier = svm.SVC()\n",
    "# fit is for clearing any attributes already stored on the estimator\n",
    "modelSVM = clasifier.fit(X_train, y_train)\n",
    "# perform prediction by taking X value as input\n",
    "yPredict = clasifier.predict(X_val)\n",
    "print(yPredict)\n"
   ]
  },
  {
   "cell_type": "code",
   "execution_count": 63,
   "id": "a8e07629",
   "metadata": {},
   "outputs": [
    {
     "name": "stdout",
     "output_type": "stream",
     "text": [
      "Accuracy: 0.5346820809248555\n",
      "              precision    recall  f1-score   support\n",
      "\n",
      "           0       1.00      0.00      0.01       646\n",
      "           1       0.53      1.00      0.70       738\n",
      "\n",
      "    accuracy                           0.53      1384\n",
      "   macro avg       0.77      0.50      0.35      1384\n",
      "weighted avg       0.75      0.53      0.37      1384\n",
      "\n"
     ]
    }
   ],
   "source": [
    "#Accuracy from SVM Model\n",
    "s= modelSVM.score(X_val, y_val)\n",
    "# printing the accuracy\n",
    "print(\"Accuracy:\", s )\n",
    "\n",
    "print(classification_report(y_val, y_pred))\n"
   ]
  },
  {
   "cell_type": "code",
   "execution_count": 64,
   "id": "fc7f2d70",
   "metadata": {},
   "outputs": [
    {
     "data": {
      "text/plain": [
       "KNeighborsClassifier()"
      ]
     },
     "execution_count": 64,
     "metadata": {},
     "output_type": "execute_result"
    }
   ],
   "source": [
    "#KNN Model\n",
    "from sklearn.preprocessing import StandardScaler\n",
    "# StandardScaler to standardize the data values into a standard format\n",
    "scaler = StandardScaler()\n",
    "# fit is for clearing any attributes already stored on the estimator\n",
    "scaler.fit(X_train)\n",
    "# transform is when called with a displayable, returns another displayable\n",
    "X_train = scaler.transform(X_train)\n",
    "X_val = scaler.transform(X_val)\n",
    "\n",
    "from sklearn.neighbors import KNeighborsClassifier\n",
    "classifier = KNeighborsClassifier(n_neighbors=5)\n",
    "# fit is for clearing any attributes already stored on the estimator\n",
    "classifier.fit(X_train, y_train)\n"
   ]
  },
  {
   "cell_type": "code",
   "execution_count": 65,
   "id": "13e9b5bf",
   "metadata": {},
   "outputs": [
    {
     "name": "stdout",
     "output_type": "stream",
     "text": [
      "['0' '0' '0' ... '0' '0' '0']\n"
     ]
    }
   ],
   "source": [
    "yPredict = classifier.predict(X_val)\n",
    "# printing the prediction value\n",
    "print(yPredict)\n"
   ]
  },
  {
   "cell_type": "code",
   "execution_count": 66,
   "id": "ada1913e",
   "metadata": {},
   "outputs": [
    {
     "name": "stdout",
     "output_type": "stream",
     "text": [
      "[[646   0]\n",
      " [736   2]]\n"
     ]
    }
   ],
   "source": [
    "from sklearn.metrics import classification_report, confusion_matrix\n",
    "# confusion_matrix used to evaluate the correctness of a classification model\n",
    "print(confusion_matrix(y_val, y_pred))\n"
   ]
  },
  {
   "cell_type": "code",
   "execution_count": 67,
   "id": "41a1335f",
   "metadata": {},
   "outputs": [
    {
     "name": "stdout",
     "output_type": "stream",
     "text": [
      "              precision    recall  f1-score   support\n",
      "\n",
      "           0       0.47      1.00      0.64       646\n",
      "           1       1.00      0.00      0.01       738\n",
      "\n",
      "    accuracy                           0.47      1384\n",
      "   macro avg       0.73      0.50      0.32      1384\n",
      "weighted avg       0.75      0.47      0.30      1384\n",
      "\n"
     ]
    }
   ],
   "source": [
    "# classification_report used to measure the quality of predictions from a classification algorithm\n",
    "print(classification_report(y_val, yPredict))\n"
   ]
  },
  {
   "cell_type": "code",
   "execution_count": 68,
   "id": "c6aabe15",
   "metadata": {},
   "outputs": [
    {
     "name": "stdout",
     "output_type": "stream",
     "text": [
      "['1' '1' '1' ... '1' '1' '1']\n"
     ]
    }
   ],
   "source": [
    "#Decision tree\n",
    "import pandas as pd\n",
    "from sklearn.tree import DecisionTreeClassifier \n",
    "from sklearn.model_selection import train_test_split \n",
    "from sklearn import metrics \n",
    "# assigning the classifier\n",
    "classifier = DecisionTreeClassifier()\n",
    "# fit is for clearing any attributes already stored on the estimator\n",
    "classifier = classifier.fit(X_train,y_train)\n",
    "#To Predict the response for test dataset\n",
    "yPredict = classifier.predict(X_val)\n",
    "print(y_pred)\n"
   ]
  },
  {
   "cell_type": "code",
   "execution_count": 69,
   "id": "fe9db389",
   "metadata": {},
   "outputs": [
    {
     "name": "stdout",
     "output_type": "stream",
     "text": [
      "Accuracy: 0.5346820809248555\n",
      "              precision    recall  f1-score   support\n",
      "\n",
      "           0       1.00      0.00      0.01       646\n",
      "           1       0.53      1.00      0.70       738\n",
      "\n",
      "    accuracy                           0.53      1384\n",
      "   macro avg       0.77      0.50      0.35      1384\n",
      "weighted avg       0.75      0.53      0.37      1384\n",
      "\n"
     ]
    }
   ],
   "source": [
    "print(\"Accuracy:\",metrics.accuracy_score(y_val, yPredict))\n",
    "# classification report with inputs\n",
    "print(classification_report(y_val, y_pred))\n"
   ]
  },
  {
   "cell_type": "code",
   "execution_count": 70,
   "id": "adb19738",
   "metadata": {},
   "outputs": [
    {
     "data": {
      "text/plain": [
       "array(['1', '1', '1', ..., '1', '1', '1'], dtype=object)"
      ]
     },
     "execution_count": 70,
     "metadata": {},
     "output_type": "execute_result"
    }
   ],
   "source": [
    "#Random Forest\n",
    "# To import Random Forest Model\n",
    "from sklearn.ensemble import RandomForestClassifier\n",
    "classifier=RandomForestClassifier(n_estimators=100)\n",
    "#Train the model using the training sets \n",
    "# fit is for clearing any attributes already stored on the estimator\n",
    "classifier.fit(X_train,y_train)\n",
    "#getting classifier predict value\n",
    "yPredict=classifier.predict(X_val)\n",
    "yPredict\n"
   ]
  },
  {
   "cell_type": "code",
   "execution_count": 71,
   "id": "cb95bf18",
   "metadata": {},
   "outputs": [
    {
     "name": "stdout",
     "output_type": "stream",
     "text": [
      "Accuracy: 0.5346820809248555\n",
      "              precision    recall  f1-score   support\n",
      "\n",
      "           0       1.00      0.00      0.01       646\n",
      "           1       0.53      1.00      0.70       738\n",
      "\n",
      "    accuracy                           0.53      1384\n",
      "   macro avg       0.77      0.50      0.35      1384\n",
      "weighted avg       0.75      0.53      0.37      1384\n",
      "\n"
     ]
    }
   ],
   "source": [
    "from sklearn import metrics\n",
    "#  metrics is released as a Python package for machine learning\n",
    "print(\"Accuracy:\",metrics.accuracy_score(y_val, y_pred))\n",
    "# classification report with inputs\n",
    "print(classification_report(y_val, y_pred))\n"
   ]
  },
  {
   "cell_type": "code",
   "execution_count": 75,
   "id": "42fb6d9b",
   "metadata": {},
   "outputs": [
    {
     "name": "stdout",
     "output_type": "stream",
     "text": [
      "Collecting xgboost\n",
      "  Downloading xgboost-1.5.0-py3-none-win_amd64.whl (106.6 MB)\n",
      "Requirement already satisfied: scipy in c:\\users\\laptopcheckout\\anaconda3\\lib\\site-packages (from xgboost) (1.6.2)\n",
      "Requirement already satisfied: numpy in c:\\users\\laptopcheckout\\anaconda3\\lib\\site-packages (from xgboost) (1.20.1)\n",
      "Installing collected packages: xgboost\n",
      "Successfully installed xgboost-1.5.0\n",
      "Note: you may need to restart the kernel to use updated packages.\n"
     ]
    }
   ],
   "source": [
    "pip install xgboost"
   ]
  },
  {
   "cell_type": "code",
   "execution_count": 76,
   "id": "d3b3f49b",
   "metadata": {},
   "outputs": [
    {
     "name": "stdout",
     "output_type": "stream",
     "text": [
      "[01:15:37] WARNING: C:/Users/Administrator/workspace/xgboost-win64_release_1.5.0/src/objective/regression_obj.cu:188: reg:linear is now deprecated in favor of reg:squarederror.\n"
     ]
    },
    {
     "data": {
      "text/plain": [
       "XGBRegressor(alpha=10, base_score=0.5, booster='gbtree', colsample_bylevel=1,\n",
       "             colsample_bynode=1, colsample_bytree=0.3, enable_categorical=False,\n",
       "             gamma=0, gpu_id=-1, importance_type=None,\n",
       "             interaction_constraints='', learning_rate=0.1, max_delta_step=0,\n",
       "             max_depth=5, min_child_weight=1, missing=nan,\n",
       "             monotone_constraints='()', n_estimators=10, n_jobs=8,\n",
       "             num_parallel_tree=1, objective='reg:linear', predictor='auto',\n",
       "             random_state=0, reg_alpha=10, reg_lambda=1, scale_pos_weight=1,\n",
       "             subsample=1, tree_method='exact', validate_parameters=1,\n",
       "             verbosity=None)"
      ]
     },
     "execution_count": 76,
     "metadata": {},
     "output_type": "execute_result"
    }
   ],
   "source": [
    "#XGBoost\n",
    "import xgboost as xgb\n",
    "import numpy as np\n",
    "# the XGBoost python module is able to load data from many types of different formats\n",
    "xgb = xgb.XGBRegressor(objective ='reg:linear', colsample_bytree = 0.3, learning_rate = 0.1,\n",
    "                max_depth = 5, alpha = 10, n_estimators = 10)\n",
    "# fit is for clearing any attributes already stored on the estimator\n",
    "xgb.fit(X_train,y_train)\n"
   ]
  },
  {
   "cell_type": "code",
   "execution_count": 77,
   "id": "9ff89bf0",
   "metadata": {},
   "outputs": [
    {
     "data": {
      "text/plain": [
       "array([0.5114447, 0.5114447, 0.5114447, ..., 0.5114447, 0.5114447,\n",
       "       0.5114447], dtype=float32)"
      ]
     },
     "execution_count": 77,
     "metadata": {},
     "output_type": "execute_result"
    }
   ],
   "source": [
    "# predict value with XGBoost\n",
    "predict = xg.predict(X_val)\n",
    "predict\n"
   ]
  },
  {
   "cell_type": "code",
   "execution_count": 78,
   "id": "61858a48",
   "metadata": {
    "scrolled": true
   },
   "outputs": [
    {
     "name": "stdout",
     "output_type": "stream",
     "text": [
      "RMSE: 0.499369\n"
     ]
    }
   ],
   "source": [
    "from sklearn.metrics import mean_squared_error\n",
    "# tells you how close a regression line is to a set of points\n",
    "meanError = np.sqrt(mean_squared_error(y_val, pred))\n",
    "# printing the mean squared error\n",
    "print(\"RMSE: %f\" % (meanError))\n"
   ]
  },
  {
   "cell_type": "code",
   "execution_count": null,
   "id": "f1bbf42b",
   "metadata": {},
   "outputs": [],
   "source": []
  }
 ],
 "metadata": {
  "kernelspec": {
   "display_name": "Python 3",
   "language": "python",
   "name": "python3"
  },
  "language_info": {
   "codemirror_mode": {
    "name": "ipython",
    "version": 3
   },
   "file_extension": ".py",
   "mimetype": "text/x-python",
   "name": "python",
   "nbconvert_exporter": "python",
   "pygments_lexer": "ipython3",
   "version": "3.8.8"
  }
 },
 "nbformat": 4,
 "nbformat_minor": 5
}
