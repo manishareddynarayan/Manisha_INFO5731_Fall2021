{
  "nbformat": 4,
  "nbformat_minor": 0,
  "metadata": {
    "colab": {
      "name": "ManishaN_INFO5731_Assignment_One.ipynb",
      "provenance": [],
      "collapsed_sections": [],
      "include_colab_link": true
    },
    "kernelspec": {
      "display_name": "Python 3",
      "language": "python",
      "name": "python3"
    },
    "language_info": {
      "codemirror_mode": {
        "name": "ipython",
        "version": 3
      },
      "file_extension": ".py",
      "mimetype": "text/x-python",
      "name": "python",
      "nbconvert_exporter": "python",
      "pygments_lexer": "ipython3",
      "version": "3.8.5"
    }
  },
  "cells": [
    {
      "cell_type": "markdown",
      "metadata": {
        "id": "view-in-github",
        "colab_type": "text"
      },
      "source": [
        "<a href=\"https://colab.research.google.com/github/manishareddynarayan/Manisha_INFO5731_Fall2021/blob/main/ManishaN_INFO5731_Assignment_One.ipynb\" target=\"_parent\"><img src=\"https://colab.research.google.com/assets/colab-badge.svg\" alt=\"Open In Colab\"/></a>"
      ]
    },
    {
      "cell_type": "markdown",
      "metadata": {
        "id": "Ryk8D1Q4Wsrp"
      },
      "source": [
        "# **INFO5731 Assignment One**"
      ]
    },
    {
      "cell_type": "markdown",
      "metadata": {
        "id": "90_NR8c5XGWc"
      },
      "source": [
        "# Question 1\n",
        "\n",
        "(20 points). Write a Python program to generate 12 random numbers between 1 and 100. Sort the list of numbers in ascending order and print it out. Sort the list of numbers in descending order and print it out. Calculate the average for the group and print it out."
      ]
    },
    {
      "cell_type": "code",
      "metadata": {
        "colab": {
          "base_uri": "https://localhost:8080/"
        },
        "id": "5QX6bJjGWXY9",
        "outputId": "dd5cc8f3-0c86-4dae-9c6c-2d8ee4d134f5"
      },
      "source": [
        "# Your code here\n",
        "# Importing the random module to generate random numbers\n",
        "import random \n",
        "#Importing mean\n",
        "from statistics import mean\n",
        "arr1 = [random.randrange(1, 100) for i in range(12)]\n",
        "print (\"The Random number list is : \" +  str(arr1))\n",
        "aa = [2,4,6,7]\n",
        "arr1.sort()\n",
        "print (\"The Random number list sorted in ascending order : \" +  str(arr1))\n",
        "arr1.sort(reverse=True)\n",
        "print (\"The Random number list sorted in descending order : \" +  str(arr1))\n",
        "#defining Average\n",
        "def Average(lst):\n",
        "    return mean(lst)\n",
        "average = Average(arr1)\n",
        "print (\"The average of  the random number list : \" +  str(average))\n"
      ],
      "execution_count": null,
      "outputs": [
        {
          "output_type": "stream",
          "name": "stdout",
          "text": [
            "The Random number list is : [77, 51, 76, 67, 30, 21, 5, 14, 50, 7, 57, 25]\n",
            "The Random number list sorted in ascending order : [5, 7, 14, 21, 25, 30, 50, 51, 57, 67, 76, 77]\n",
            "The Random number list sorted in descending order : [77, 76, 67, 57, 51, 50, 30, 25, 21, 14, 7, 5]\n",
            "The average of  the random number list : 40\n"
          ]
        }
      ]
    },
    {
      "cell_type": "markdown",
      "metadata": {
        "id": "1F_PZdH9Sh49"
      },
      "source": [
        "# Question 2\n",
        "(25 points). Write a program that will do the following string formatting tasks:\n",
        "\n",
        "(1) Ask the user to enter two sentences.\n",
        "\n",
        "(2) Make each sentence into a list. Each element in the list should correspond to a word in the sentence. For example, if the sentence is \"Alas! Am I alive? This is my first python program\", the program should print out ['Alas, '!', 'Am', 'I', 'alive, '?', 'This', 'is', 'my', 'first', 'python', 'program'].\n",
        "\n",
        "(3) Compare the two sentences. Print out a list of words that occur in both sentences.\n",
        "\n",
        "(4) Remove any punctuation from the sentence and print it back out. It should remove at least the following characters, but it can remove more: period(“.”), comma (“,”), semicolon (“;”), and colon (“:”)\n",
        "\n",
        "(5) Count the number of vowels in the sentences. Print out each vowel and the number of times it appears in the sentences, such as: a:2, e:1, i:0, etc"
      ]
    },
    {
      "cell_type": "code",
      "metadata": {
        "colab": {
          "base_uri": "https://localhost:8080/"
        },
        "id": "Y0oOSlsOS0cq",
        "outputId": "a530164c-9760-4e6d-97a7-8002847a2992"
      },
      "source": [
        "# Your code here\n",
        "# To convert sentence into list of words\n",
        "import re\n",
        "def convert(lst1):\n",
        "    return (lst1[0].split())\n",
        "# To get the vowels with the count\n",
        "def Check_Vowel(vow):\n",
        "   lowercase = vow.lower()\n",
        "   vowel_counts = {}\n",
        "   for vowel in \"aeiou\":\n",
        "     count = lowercase.count(vowel)\n",
        "     vowel_counts[vowel] = count\n",
        "   return vowel_counts\n",
        "# Taking 2 input sentences from user\n",
        "in1=input('Enter the sentence one - ')\n",
        "in2=input('Enter the sentence two - ')\n",
        "# Using the defination declared above\n",
        "lst1 =  [in1]\n",
        "lst2 = [in2]\n",
        "print(\"The splitted first sentence : \"+str(convert(lst1)))\n",
        "print(\"The splitting second sentence : \"+str(convert(lst2)))\n",
        "# Get common words from 2 sentences\n",
        "comn = set(in1.split()) & set(in2.split())\n",
        "print(\"The words that are common in both sentences: \" +str(comn))\n",
        "# Removing the punctuations \n",
        "firstPunch = re.sub(r'[^\\w\\s]','',in1)\n",
        "secondPunch = re.sub(r'[^\\w\\s]','',in2)\n",
        "print(\"The first sentence after removal of punctuation: \"+str(firstPunch))\n",
        "print(\"The second sentence after removal of punctuation: \"+str(secondPunch))\n",
        "#Frequency of vowels in given sentence \n",
        "print(\"The vowels with their frequency in sentence one: \"+str(Check_Vowel(in1)))\n",
        "print(\"The vowels with their frequency in sentence two: \"+str(Check_Vowel(in2)))\n",
        "\n"
      ],
      "execution_count": null,
      "outputs": [
        {
          "output_type": "stream",
          "name": "stdout",
          "text": [
            "Enter the sentence one - hii !! how ARE you\n",
            "Enter the sentence two - how are you ! ,: ::\n",
            "The splitted first sentence :['hii', '!!', 'how', 'ARE', 'you']\n",
            "The splitting second sentence :['how', 'are', 'you', '!', ',:', '::']\n",
            "The words that are common in both sentences:{'how', 'you'}\n",
            "The first sentence after removal of punctuation: hii  how ARE you\n",
            "The second sentence after removal of punctuation: how are you   \n",
            "The vowels with their frequency in sentence one: {'a': 1, 'e': 1, 'i': 2, 'o': 2, 'u': 1}\n",
            "The vowels with their frequency in sentence two: {'a': 1, 'e': 1, 'i': 0, 'o': 2, 'u': 1}\n"
          ]
        }
      ]
    },
    {
      "cell_type": "markdown",
      "metadata": {
        "id": "CmFoI4jDS9nx"
      },
      "source": [
        "# Question 3 \n",
        "\n",
        "(15 points). The formula that describes the volume V of a sphere with radius r is the following:\n",
        "\n",
        "$ V=\\frac{4}{3}\\ast\\ \\pi\\ast\\ r^3 $\n",
        "\n",
        "Write a program to calculate the value of V when r is in the range of 1–10. Output the result in the following format:\n",
        "\n",
        "\tr\tV\n",
        "\t1\t…\n",
        "\t2\t…\n",
        "\t3\t…\n"
      ]
    },
    {
      "cell_type": "code",
      "metadata": {
        "colab": {
          "base_uri": "https://localhost:8080/"
        },
        "id": "pEyqeioAT95b",
        "outputId": "895c2016-0252-4bee-f45c-a049ad0d7171"
      },
      "source": [
        "# Your code here\n",
        "import math\n",
        "# defining volume formula\n",
        "def vol(r):\n",
        "  return(4/3 * math.pi * (r*r*r))\n",
        "print(\"The volume of sphere for given range of r: \")\n",
        "print(\"r\" + \"   \" + \"v\")\n",
        "# giving range to find volume for all values of r\n",
        "for x in range(1,10):\n",
        "  print(str(x) + \"   \" + str(vol(x)))\n"
      ],
      "execution_count": null,
      "outputs": [
        {
          "output_type": "stream",
          "name": "stdout",
          "text": [
            "The volume of sphere for given range of r: \n",
            "r   v\n",
            "1   4.1887902047863905\n",
            "2   33.510321638291124\n",
            "3   113.09733552923254\n",
            "4   268.082573106329\n",
            "5   523.5987755982989\n",
            "6   904.7786842338603\n",
            "7   1436.7550402417319\n",
            "8   2144.660584850632\n",
            "9   3053.6280592892786\n"
          ]
        }
      ]
    },
    {
      "cell_type": "markdown",
      "metadata": {
        "id": "z3tBE7E-Xn5X"
      },
      "source": [
        "# Question 4\n",
        "\n",
        "(40 points). In the field of Data Science, data is often formatted as a comma-delimited (CSV) file, where each line in a file corresponds to a field's value. Refer to Chapter 9 (p. 106) for more information on comma-delimited files. To answer this question, you will need to download the file [Assignment1_denton_housing.csv](https://github.com/unt-iialab/info5731-fall2021/blob/main/assignments/Assignment1_denton_housing.csv) included with this assignment. The file [Assignment1_denton_housing.csv](https://github.com/unt-iialab/info5731-fall2021/blob/main/assignments/Assignment1_denton_housing.csv) contains statistics about housing in the city of Denton from 2008 to 2014. Write a program to implement the following questions.\n",
        "\n",
        "(1) (10 pts) Calculate the difference in the number of Occupied Housing Units from year to year and print it. The difference must be calculated for the consecutive years such as 2008-2009, 2009-2010 etc. Finally, print the values in the ascending order.\n",
        "\n",
        "(2) (10 pts) For all the years, calculate the percentage of housing units which are vacant an occupied. Print the results in the following format:\n",
        "\n",
        "Year Vacant Housing Units Occupied Housing Units\n",
        "\n",
        "    2008  30%   70%                          \n",
        "\t2009 ----- -----\n",
        "\t2010 ----- -----\n",
        "    2011 ----- -----\n",
        "\t2012 ----- -----\n",
        "    2013 ----- -----\n",
        "\t2014 ----- -----\n",
        "  \n",
        "  \n",
        "\n",
        "(3) (10 pts) Calculate and print the valued and years in which the highest number of housing units were vacant and occupied. Print the results in the following format:  \n",
        "\n",
        "                              Year\tValue\n",
        "\tVacant Housing Units\t  -----   -----\n",
        "\tOccupied Housing Units\t-----   -----\n",
        "\n",
        "(4) (10 pts) Calculate the harmonic mean of the total housing units and print it out. You can find the information about harmonic mean here: https://ncalculators.com/statistics/harmonic-mean-calculator.htm"
      ]
    },
    {
      "cell_type": "code",
      "metadata": {
        "colab": {
          "base_uri": "https://localhost:8080/"
        },
        "id": "cMZlvS1KVx5-",
        "outputId": "09171cf4-4f43-47d6-9fb0-5bd7bb0ef523"
      },
      "source": [
        "#4.1\n",
        "# importing csv to access the csv file\n",
        "import csv\n",
        "titleField= ' '\n",
        "initialYear=2008\n",
        "temp=0\n",
        "diff=[]\n",
        "# Getting the occupied housing units values according to years\n",
        "with open('Denton_housing.csv') as read_obj:\n",
        "    csv_reader = reader(read_obj)\n",
        "    for row in csv_reader:\n",
        "      titleField=row[1]\n",
        "      if titleField == 'Occupied Housing Units':\n",
        "          if(temp != 0):\n",
        "            diff.append(temp-int(row[2]))\n",
        "          initialYear=initialYear+1\n",
        "          temp=int(row[2])\n",
        "# finding the difference and sorting\n",
        "    diff.sort()\n",
        "    print(diff)"
      ],
      "execution_count": 56,
      "outputs": [
        {
          "output_type": "stream",
          "name": "stdout",
          "text": [
            "[-795, -303, 1404, 1565, 2622, 5091]\n"
          ]
        }
      ]
    },
    {
      "cell_type": "code",
      "metadata": {
        "id": "cV5agDtFOXb8",
        "colab": {
          "base_uri": "https://localhost:8080/"
        },
        "outputId": "43e79bd3-9eb2-4be3-f6e4-0954a303a2c0"
      },
      "source": [
        "#4.2\n",
        "from csv import reader\n",
        "# opening the file in read mode\n",
        "with open('Denton_housing.csv', 'r') as read_obj:\n",
        "    csv_reader = reader(read_obj)\n",
        "    # Iterate each row using reader object\n",
        "    pri=[];\n",
        "   # Get details of vacant and doccupied housing units\n",
        "    for row in csv_reader:\n",
        "        if(row[1] == \"Vacant Housing Units\"):\n",
        "          vht=int(row[2])\n",
        "        if(row[1] == \"Occupied Housing Units\" ):\n",
        "          oht=int(row[2])\n",
        "        sum=oht+vht\n",
        "        # getting percentage\n",
        "        try:\n",
        "          op=oht*100/sum\n",
        "          vp=vht*100/sum\n",
        "          if (row[0] not in pri) and (row[0] != 'year'):\n",
        "            print(\"ocupied percentage= \",op,\" vacant house percentage= \",vp ,\"in year\",row[0])\n",
        "            pri.append(row[0]);\n",
        "        except ZeroDivisionError:\n",
        "          op=0"
      ],
      "execution_count": 72,
      "outputs": [
        {
          "output_type": "stream",
          "name": "stdout",
          "text": [
            "ocupied percentage=  89.11734718648347  vacant house percentage=  10.88265281351653 in year 2014\n",
            "ocupied percentage=  94.26988942963611  vacant house percentage=  5.730110570363885 in year 2013\n",
            "ocupied percentage=  91.19821249582358  vacant house percentage=  8.801787504176412 in year 2012\n",
            "ocupied percentage=  93.32239976950865  vacant house percentage=  6.677600230491345 in year 2011\n",
            "ocupied percentage=  90.62047777010932  vacant house percentage=  9.379522229890688 in year 2010\n",
            "ocupied percentage=  91.85744366291833  vacant house percentage=  8.142556337081672 in year 2009\n",
            "ocupied percentage=  90.92888427555128  vacant house percentage=  9.07111572444872 in year 2008\n"
          ]
        }
      ]
    },
    {
      "cell_type": "code",
      "metadata": {
        "colab": {
          "base_uri": "https://localhost:8080/"
        },
        "id": "lqGYuHBhcsRH",
        "outputId": "9c108ec2-b8f6-406d-a5bd-427c6e3cd186"
      },
      "source": [
        "#4.3\n",
        "from csv import reader\n",
        "# opening file in read mode\n",
        "with open('Denton_housing.csv', 'r') as read_obj:\n",
        "    csv_reader = reader(read_obj)\n",
        "    # Iterate each row using reader object\n",
        "    temp=0\n",
        "    vht=0\n",
        "    vy=0\n",
        "    oy=0\n",
        "    oht=0\n",
        "    for row in csv_reader:\n",
        "      # get values of vacant housing units and calculate max\n",
        "        if(row[1] == \"Vacant Housing Units\"):\n",
        "          if(vht<int(row[2])):\n",
        "            vht=int(row[2])\n",
        "            vy=int(row[0])\n",
        "      # get values of occupied housing units and calculate max\n",
        "        if(row[1] == \"Occupied Housing Units\" ):\n",
        "          if(oht<int(row[2])):\n",
        "            oht=int(row[2])\n",
        "            oy=int(row[0])\n",
        "       # print(row[1])   \n",
        "    print(\"vacant housing are max with value\",vht,\" in year \",vy)\n",
        "    print(\"occupied housing are max with value\",oht,\" in year \",oy)\n",
        "    \n",
        "\n"
      ],
      "execution_count": 66,
      "outputs": [
        {
          "output_type": "stream",
          "name": "stdout",
          "text": [
            "vacant housing are max with value 4483  in year  2008\n",
            "occupied housing are max with value 46295  in year  2014\n"
          ]
        }
      ]
    },
    {
      "cell_type": "code",
      "metadata": {
        "colab": {
          "base_uri": "https://localhost:8080/"
        },
        "id": "mm5F7RY6ihKh",
        "outputId": "de7e51cd-2b39-4b01-a6fd-9e0f858f2da0"
      },
      "source": [
        "#4.4\n",
        "#Importing stats harmonic mean\n",
        "from scipy import stats\n",
        "import pandas as pd\n",
        "\n",
        "df = pd.read_csv(\"Denton_housing.csv\") \n",
        "# getting the value for total housing units together\n",
        "totalHousingUnits = df.loc[df['title_field'] == 'Total Housing Units','value'].values\n",
        "# printing the harmonic stats through hmean\n",
        "print (\"Harmonic mean =  %f\"%stats.hmean(totalHousingUnits))\n"
      ],
      "execution_count": 65,
      "outputs": [
        {
          "output_type": "stream",
          "name": "stdout",
          "text": [
            "Harmonic mean =  44398.285440\n"
          ]
        }
      ]
    }
  ]
}